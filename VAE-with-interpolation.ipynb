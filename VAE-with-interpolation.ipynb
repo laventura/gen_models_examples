{
  "nbformat": 4,
  "nbformat_minor": 0,
  "metadata": {
    "colab": {
      "provenance": [],
      "authorship_tag": "ABX9TyNA4Z2wT13xoxnzagg/af62",
      "include_colab_link": true
    },
    "kernelspec": {
      "name": "python3",
      "display_name": "Python 3"
    },
    "language_info": {
      "name": "python"
    }
  },
  "cells": [
    {
      "cell_type": "markdown",
      "metadata": {
        "id": "view-in-github",
        "colab_type": "text"
      },
      "source": [
        "<a href=\"https://colab.research.google.com/github/laventura/gen_models_examples/blob/main/VAE-with-interpolation.ipynb\" target=\"_parent\"><img src=\"https://colab.research.google.com/assets/colab-badge.svg\" alt=\"Open In Colab\"/></a>"
      ]
    },
    {
      "cell_type": "code",
      "execution_count": 1,
      "metadata": {
        "id": "D0xPVl42usMW"
      },
      "outputs": [],
      "source": [
        "import torch\n",
        "import torch.nn as nn\n",
        "import torch.optim as optim\n",
        "from torch.utils.data import DataLoader\n",
        "from torchvision import datasets, transforms\n",
        "import numpy as np\n",
        "import matplotlib.pyplot as plt"
      ]
    },
    {
      "cell_type": "code",
      "source": [
        "# Define VAE Model\n",
        "class VAE(nn.Module):\n",
        "    def __init__(self, latent_dim=2):\n",
        "        super(VAE, self).__init__()\n",
        "        self.encoder = nn.Sequential(\n",
        "            nn.Flatten(),\n",
        "            nn.Linear(28*28, 400),\n",
        "            nn.ReLU(),\n",
        "            nn.Linear(400, 20)  # 10 for mean, 10 for log variance\n",
        "        )\n",
        "        self.decoder = nn.Sequential(\n",
        "            nn.Linear(latent_dim, 400),\n",
        "            nn.ReLU(),\n",
        "            nn.Linear(400, 28*28),\n",
        "            nn.Sigmoid()\n",
        "        )\n",
        "        self.latent_dim = latent_dim\n",
        "\n",
        "    def reparameterize(self, mu, logvar):\n",
        "        std = torch.exp(0.5 * logvar)\n",
        "        eps = torch.randn_like(std)\n",
        "        return mu + eps * std\n",
        "\n",
        "    def forward(self, x):\n",
        "        params = self.encoder(x)\n",
        "        mu, logvar = params[:, :10], params[:, 10:]\n",
        "        z = self.reparameterize(mu, logvar)\n",
        "        return self.decoder(z), mu, logvar\n"
      ],
      "metadata": {
        "id": "eW9RM-oou7QS"
      },
      "execution_count": 2,
      "outputs": []
    },
    {
      "cell_type": "code",
      "source": [
        "# Load MNIST Dataset\n",
        "transform = transforms.Compose([transforms.ToTensor()])\n",
        "train_dataset = datasets.MNIST(root='./data', train=True, transform=transform, download=True)\n",
        "train_loader = DataLoader(train_dataset, batch_size=64, shuffle=True)"
      ],
      "metadata": {
        "colab": {
          "base_uri": "https://localhost:8080/"
        },
        "id": "awEsbY9gvGa6",
        "outputId": "50174973-2c20-4261-9342-54141318f64c"
      },
      "execution_count": 3,
      "outputs": [
        {
          "output_type": "stream",
          "name": "stdout",
          "text": [
            "Downloading http://yann.lecun.com/exdb/mnist/train-images-idx3-ubyte.gz\n",
            "Failed to download (trying next):\n",
            "HTTP Error 404: Not Found\n",
            "\n",
            "Downloading https://ossci-datasets.s3.amazonaws.com/mnist/train-images-idx3-ubyte.gz\n",
            "Downloading https://ossci-datasets.s3.amazonaws.com/mnist/train-images-idx3-ubyte.gz to ./data/MNIST/raw/train-images-idx3-ubyte.gz\n"
          ]
        },
        {
          "output_type": "stream",
          "name": "stderr",
          "text": [
            "100%|██████████| 9.91M/9.91M [00:00<00:00, 16.0MB/s]\n"
          ]
        },
        {
          "output_type": "stream",
          "name": "stdout",
          "text": [
            "Extracting ./data/MNIST/raw/train-images-idx3-ubyte.gz to ./data/MNIST/raw\n",
            "\n",
            "Downloading http://yann.lecun.com/exdb/mnist/train-labels-idx1-ubyte.gz\n",
            "Failed to download (trying next):\n",
            "HTTP Error 404: Not Found\n",
            "\n",
            "Downloading https://ossci-datasets.s3.amazonaws.com/mnist/train-labels-idx1-ubyte.gz\n",
            "Downloading https://ossci-datasets.s3.amazonaws.com/mnist/train-labels-idx1-ubyte.gz to ./data/MNIST/raw/train-labels-idx1-ubyte.gz\n"
          ]
        },
        {
          "output_type": "stream",
          "name": "stderr",
          "text": [
            "100%|██████████| 28.9k/28.9k [00:00<00:00, 481kB/s]\n"
          ]
        },
        {
          "output_type": "stream",
          "name": "stdout",
          "text": [
            "Extracting ./data/MNIST/raw/train-labels-idx1-ubyte.gz to ./data/MNIST/raw\n",
            "\n",
            "Downloading http://yann.lecun.com/exdb/mnist/t10k-images-idx3-ubyte.gz\n",
            "Failed to download (trying next):\n",
            "HTTP Error 404: Not Found\n",
            "\n",
            "Downloading https://ossci-datasets.s3.amazonaws.com/mnist/t10k-images-idx3-ubyte.gz\n",
            "Downloading https://ossci-datasets.s3.amazonaws.com/mnist/t10k-images-idx3-ubyte.gz to ./data/MNIST/raw/t10k-images-idx3-ubyte.gz\n"
          ]
        },
        {
          "output_type": "stream",
          "name": "stderr",
          "text": [
            "100%|██████████| 1.65M/1.65M [00:00<00:00, 4.47MB/s]\n"
          ]
        },
        {
          "output_type": "stream",
          "name": "stdout",
          "text": [
            "Extracting ./data/MNIST/raw/t10k-images-idx3-ubyte.gz to ./data/MNIST/raw\n",
            "\n",
            "Downloading http://yann.lecun.com/exdb/mnist/t10k-labels-idx1-ubyte.gz\n",
            "Failed to download (trying next):\n",
            "HTTP Error 404: Not Found\n",
            "\n",
            "Downloading https://ossci-datasets.s3.amazonaws.com/mnist/t10k-labels-idx1-ubyte.gz\n",
            "Downloading https://ossci-datasets.s3.amazonaws.com/mnist/t10k-labels-idx1-ubyte.gz to ./data/MNIST/raw/t10k-labels-idx1-ubyte.gz\n"
          ]
        },
        {
          "output_type": "stream",
          "name": "stderr",
          "text": [
            "100%|██████████| 4.54k/4.54k [00:00<00:00, 9.79MB/s]"
          ]
        },
        {
          "output_type": "stream",
          "name": "stdout",
          "text": [
            "Extracting ./data/MNIST/raw/t10k-labels-idx1-ubyte.gz to ./data/MNIST/raw\n",
            "\n"
          ]
        },
        {
          "output_type": "stream",
          "name": "stderr",
          "text": [
            "\n"
          ]
        }
      ]
    },
    {
      "cell_type": "code",
      "source": [
        "def loss_function(recon_x, x, mu, logvar):\n",
        "    BCE = nn.functional.binary_cross_entropy(recon_x, x.view(-1, 28*28), reduction='sum')\n",
        "    KLD = -0.5 * torch.sum(1 + logvar - mu.pow(2) - logvar.exp())\n",
        "    return BCE + KLD"
      ],
      "metadata": {
        "id": "8a8ILeHfvKx2"
      },
      "execution_count": 4,
      "outputs": []
    },
    {
      "cell_type": "code",
      "source": [
        "# Training the VAE\n",
        "vae = VAE(latent_dim=10)\n",
        "optimizer = optim.Adam(vae.parameters(), lr=1e-3)"
      ],
      "metadata": {
        "id": "91tt9ejfvVJs"
      },
      "execution_count": 5,
      "outputs": []
    },
    {
      "cell_type": "code",
      "source": [
        "def train_vae(model, dataloader, epochs=10):\n",
        "    model.train()\n",
        "    for epoch in range(epochs):\n",
        "        train_loss = 0\n",
        "        for batch_idx, (data, _) in enumerate(dataloader):\n",
        "            optimizer.zero_grad()\n",
        "            data = data.view(-1, 28*28)\n",
        "            recon_batch, mu, logvar = model(data)\n",
        "            loss = loss_function(recon_batch, data, mu, logvar)\n",
        "            loss.backward()\n",
        "            train_loss += loss.item()\n",
        "            optimizer.step()\n",
        "        print(f\"Epoch {epoch+1}, Loss: {train_loss / len(dataloader.dataset):.4f}\")\n"
      ],
      "metadata": {
        "id": "Sf6Z-NOtvaEw"
      },
      "execution_count": 6,
      "outputs": []
    },
    {
      "cell_type": "code",
      "source": [
        "## Train the VAE\n",
        "train_vae(vae, train_loader)"
      ],
      "metadata": {
        "colab": {
          "base_uri": "https://localhost:8080/"
        },
        "id": "pjEwQWIgveHA",
        "outputId": "f76a0973-ca45-4ad5-b8f3-43bb730fd5a0"
      },
      "execution_count": 8,
      "outputs": [
        {
          "output_type": "stream",
          "name": "stdout",
          "text": [
            "Epoch 1, Loss: 146.8939\n",
            "Epoch 2, Loss: 120.6531\n",
            "Epoch 3, Loss: 116.8297\n",
            "Epoch 4, Loss: 114.8108\n",
            "Epoch 5, Loss: 113.5476\n",
            "Epoch 6, Loss: 112.5024\n",
            "Epoch 7, Loss: 111.6819\n",
            "Epoch 8, Loss: 111.0097\n",
            "Epoch 9, Loss: 110.4500\n",
            "Epoch 10, Loss: 109.9355\n"
          ]
        }
      ]
    },
    {
      "cell_type": "code",
      "source": [
        "# Visualization: Original vs. Reconstructed Images\n",
        "def plot_reconstructions(model, dataloader):\n",
        "    model.eval()\n",
        "    data, _ = next(iter(dataloader))\n",
        "    data = data.view(-1, 28*28)\n",
        "    with torch.no_grad():\n",
        "        recon, _, _ = model(data)\n",
        "    fig, axes = plt.subplots(2, 10, figsize=(10, 2))\n",
        "    for i in range(10):\n",
        "        axes[0, i].imshow(data[i].view(28, 28), cmap='gray')\n",
        "        axes[0, i].axis('off')\n",
        "        axes[1, i].imshow(recon[i].view(28, 28), cmap='gray')\n",
        "        axes[1, i].axis('off')\n",
        "    plt.show()"
      ],
      "metadata": {
        "id": "fJVW51CvviQY"
      },
      "execution_count": 9,
      "outputs": []
    },
    {
      "cell_type": "code",
      "source": [
        "## Plot reconstruction\n",
        "plot_reconstructions(vae, train_loader)"
      ],
      "metadata": {
        "colab": {
          "base_uri": "https://localhost:8080/",
          "height": 186
        },
        "id": "XlMypZpDvsT7",
        "outputId": "3e1cb6a5-07fa-487a-c467-7fa05fd1463d"
      },
      "execution_count": 10,
      "outputs": [
        {
          "output_type": "display_data",
          "data": {
            "text/plain": [
              "<Figure size 1000x200 with 20 Axes>"
            ],
            "image/png": "[encoded data removed]"
          },
          "metadata": {}
        }
      ]
    },
    {
      "cell_type": "code",
      "source": [
        "# Latent Space Interpolation\n",
        "def interpolate(model, start, end, steps=10):\n",
        "    model.eval()\n",
        "    start, end = start.view(1, -1), end.view(1, -1)\n",
        "    z = torch.cat([start + (end - start) * t / steps for t in range(steps)])\n",
        "    with torch.no_grad():\n",
        "        images = model.decoder(z).view(-1, 28, 28)\n",
        "    fig, axes = plt.subplots(1, steps, figsize=(steps, 1))\n",
        "    for i in range(steps):\n",
        "        axes[i].imshow(images[i].cpu().numpy(), cmap='gray')\n",
        "        axes[i].axis('off')\n",
        "    plt.show()\n"
      ],
      "metadata": {
        "id": "HQ1909yOwGdT"
      },
      "execution_count": 11,
      "outputs": []
    },
    {
      "cell_type": "code",
      "source": [
        "# perform latent space interpolation\n",
        "data, _ = next(iter(train_loader))\n",
        "mu, _ = vae.encoder(data.view(-1, 28*28))[:, :10].chunk(2, dim=1)\n",
        "interpolate(vae, mu[0], mu[1])"
      ],
      "metadata": {
        "colab": {
          "base_uri": "https://localhost:8080/",
          "height": 337
        },
        "id": "UO6bJ7bEwb-L",
        "outputId": "7ca51496-71ec-4d40-d689-029610078c63"
      },
      "execution_count": 12,
      "outputs": [
        {
          "output_type": "error",
          "ename": "RuntimeError",
          "evalue": "mat1 and mat2 shapes cannot be multiplied (10x5 and 10x400)",
          "traceback": [
            "\u001b[0;31m---------------------------------------------------------------------------\u001b[0m",
            "\u001b[0;31mRuntimeError\u001b[0m                              Traceback (most recent call last)",
            "\u001b[0;32m<ipython-input-12-d881f1ace852>\u001b[0m in \u001b[0;36m<cell line: 0>\u001b[0;34m()\u001b[0m\n\u001b[1;32m      2\u001b[0m \u001b[0mdata\u001b[0m\u001b[0;34m,\u001b[0m \u001b[0m_\u001b[0m \u001b[0;34m=\u001b[0m \u001b[0mnext\u001b[0m\u001b[0;34m(\u001b[0m\u001b[0miter\u001b[0m\u001b[0;34m(\u001b[0m\u001b[0mtrain_loader\u001b[0m\u001b[0;34m)\u001b[0m\u001b[0;34m)\u001b[0m\u001b[0;34m\u001b[0m\u001b[0;34m\u001b[0m\u001b[0m\n\u001b[1;32m      3\u001b[0m \u001b[0mmu\u001b[0m\u001b[0;34m,\u001b[0m \u001b[0m_\u001b[0m \u001b[0;34m=\u001b[0m \u001b[0mvae\u001b[0m\u001b[0;34m.\u001b[0m\u001b[0mencoder\u001b[0m\u001b[0;34m(\u001b[0m\u001b[0mdata\u001b[0m\u001b[0;34m.\u001b[0m\u001b[0mview\u001b[0m\u001b[0;34m(\u001b[0m\u001b[0;34m-\u001b[0m\u001b[0;36m1\u001b[0m\u001b[0;34m,\u001b[0m \u001b[0;36m28\u001b[0m\u001b[0;34m*\u001b[0m\u001b[0;36m28\u001b[0m\u001b[0;34m)\u001b[0m\u001b[0;34m)\u001b[0m\u001b[0;34m[\u001b[0m\u001b[0;34m:\u001b[0m\u001b[0;34m,\u001b[0m \u001b[0;34m:\u001b[0m\u001b[0;36m10\u001b[0m\u001b[0;34m]\u001b[0m\u001b[0;34m.\u001b[0m\u001b[0mchunk\u001b[0m\u001b[0;34m(\u001b[0m\u001b[0;36m2\u001b[0m\u001b[0;34m,\u001b[0m \u001b[0mdim\u001b[0m\u001b[0;34m=\u001b[0m\u001b[0;36m1\u001b[0m\u001b[0;34m)\u001b[0m\u001b[0;34m\u001b[0m\u001b[0;34m\u001b[0m\u001b[0m\n\u001b[0;32m----> 4\u001b[0;31m \u001b[0minterpolate\u001b[0m\u001b[0;34m(\u001b[0m\u001b[0mvae\u001b[0m\u001b[0;34m,\u001b[0m \u001b[0mmu\u001b[0m\u001b[0;34m[\u001b[0m\u001b[0;36m0\u001b[0m\u001b[0;34m]\u001b[0m\u001b[0;34m,\u001b[0m \u001b[0mmu\u001b[0m\u001b[0;34m[\u001b[0m\u001b[0;36m1\u001b[0m\u001b[0;34m]\u001b[0m\u001b[0;34m)\u001b[0m\u001b[0;34m\u001b[0m\u001b[0;34m\u001b[0m\u001b[0m\n\u001b[0m",
            "\u001b[0;32m<ipython-input-11-e14835798c70>\u001b[0m in \u001b[0;36minterpolate\u001b[0;34m(model, start, end, steps)\u001b[0m\n\u001b[1;32m      5\u001b[0m     \u001b[0mz\u001b[0m \u001b[0;34m=\u001b[0m \u001b[0mtorch\u001b[0m\u001b[0;34m.\u001b[0m\u001b[0mcat\u001b[0m\u001b[0;34m(\u001b[0m\u001b[0;34m[\u001b[0m\u001b[0mstart\u001b[0m \u001b[0;34m+\u001b[0m \u001b[0;34m(\u001b[0m\u001b[0mend\u001b[0m \u001b[0;34m-\u001b[0m \u001b[0mstart\u001b[0m\u001b[0;34m)\u001b[0m \u001b[0;34m*\u001b[0m \u001b[0mt\u001b[0m \u001b[0;34m/\u001b[0m \u001b[0msteps\u001b[0m \u001b[0;32mfor\u001b[0m \u001b[0mt\u001b[0m \u001b[0;32min\u001b[0m \u001b[0mrange\u001b[0m\u001b[0;34m(\u001b[0m\u001b[0msteps\u001b[0m\u001b[0;34m)\u001b[0m\u001b[0;34m]\u001b[0m\u001b[0;34m)\u001b[0m\u001b[0;34m\u001b[0m\u001b[0;34m\u001b[0m\u001b[0m\n\u001b[1;32m      6\u001b[0m     \u001b[0;32mwith\u001b[0m \u001b[0mtorch\u001b[0m\u001b[0;34m.\u001b[0m\u001b[0mno_grad\u001b[0m\u001b[0;34m(\u001b[0m\u001b[0;34m)\u001b[0m\u001b[0;34m:\u001b[0m\u001b[0;34m\u001b[0m\u001b[0;34m\u001b[0m\u001b[0m\n\u001b[0;32m----> 7\u001b[0;31m         \u001b[0mimages\u001b[0m \u001b[0;34m=\u001b[0m \u001b[0mmodel\u001b[0m\u001b[0;34m.\u001b[0m\u001b[0mdecoder\u001b[0m\u001b[0;34m(\u001b[0m\u001b[0mz\u001b[0m\u001b[0;34m)\u001b[0m\u001b[0;34m.\u001b[0m\u001b[0mview\u001b[0m\u001b[0;34m(\u001b[0m\u001b[0;34m-\u001b[0m\u001b[0;36m1\u001b[0m\u001b[0;34m,\u001b[0m \u001b[0;36m28\u001b[0m\u001b[0;34m,\u001b[0m \u001b[0;36m28\u001b[0m\u001b[0;34m)\u001b[0m\u001b[0;34m\u001b[0m\u001b[0;34m\u001b[0m\u001b[0m\n\u001b[0m\u001b[1;32m      8\u001b[0m     \u001b[0mfig\u001b[0m\u001b[0;34m,\u001b[0m \u001b[0maxes\u001b[0m \u001b[0;34m=\u001b[0m \u001b[0mplt\u001b[0m\u001b[0;34m.\u001b[0m\u001b[0msubplots\u001b[0m\u001b[0;34m(\u001b[0m\u001b[0;36m1\u001b[0m\u001b[0;34m,\u001b[0m \u001b[0msteps\u001b[0m\u001b[0;34m,\u001b[0m \u001b[0mfigsize\u001b[0m\u001b[0;34m=\u001b[0m\u001b[0;34m(\u001b[0m\u001b[0msteps\u001b[0m\u001b[0;34m,\u001b[0m \u001b[0;36m1\u001b[0m\u001b[0;34m)\u001b[0m\u001b[0;34m)\u001b[0m\u001b[0;34m\u001b[0m\u001b[0;34m\u001b[0m\u001b[0m\n\u001b[1;32m      9\u001b[0m     \u001b[0;32mfor\u001b[0m \u001b[0mi\u001b[0m \u001b[0;32min\u001b[0m \u001b[0mrange\u001b[0m\u001b[0;34m(\u001b[0m\u001b[0msteps\u001b[0m\u001b[0;34m)\u001b[0m\u001b[0;34m:\u001b[0m\u001b[0;34m\u001b[0m\u001b[0;34m\u001b[0m\u001b[0m\n",
            "\u001b[0;32m/usr/local/lib/python3.11/dist-packages/torch/nn/modules/module.py\u001b[0m in \u001b[0;36m_wrapped_call_impl\u001b[0;34m(self, *args, **kwargs)\u001b[0m\n\u001b[1;32m   1734\u001b[0m             \u001b[0;32mreturn\u001b[0m \u001b[0mself\u001b[0m\u001b[0;34m.\u001b[0m\u001b[0m_compiled_call_impl\u001b[0m\u001b[0;34m(\u001b[0m\u001b[0;34m*\u001b[0m\u001b[0margs\u001b[0m\u001b[0;34m,\u001b[0m \u001b[0;34m**\u001b[0m\u001b[0mkwargs\u001b[0m\u001b[0;34m)\u001b[0m  \u001b[0;31m# type: ignore[misc]\u001b[0m\u001b[0;34m\u001b[0m\u001b[0;34m\u001b[0m\u001b[0m\n\u001b[1;32m   1735\u001b[0m         \u001b[0;32melse\u001b[0m\u001b[0;34m:\u001b[0m\u001b[0;34m\u001b[0m\u001b[0;34m\u001b[0m\u001b[0m\n\u001b[0;32m-> 1736\u001b[0;31m             \u001b[0;32mreturn\u001b[0m \u001b[0mself\u001b[0m\u001b[0;34m.\u001b[0m\u001b[0m_call_impl\u001b[0m\u001b[0;34m(\u001b[0m\u001b[0;34m*\u001b[0m\u001b[0margs\u001b[0m\u001b[0;34m,\u001b[0m \u001b[0;34m**\u001b[0m\u001b[0mkwargs\u001b[0m\u001b[0;34m)\u001b[0m\u001b[0;34m\u001b[0m\u001b[0;34m\u001b[0m\u001b[0m\n\u001b[0m\u001b[1;32m   1737\u001b[0m \u001b[0;34m\u001b[0m\u001b[0m\n\u001b[1;32m   1738\u001b[0m     \u001b[0;31m# torchrec tests the code consistency with the following code\u001b[0m\u001b[0;34m\u001b[0m\u001b[0;34m\u001b[0m\u001b[0m\n",
            "\u001b[0;32m/usr/local/lib/python3.11/dist-packages/torch/nn/modules/module.py\u001b[0m in \u001b[0;36m_call_impl\u001b[0;34m(self, *args, **kwargs)\u001b[0m\n\u001b[1;32m   1745\u001b[0m                 \u001b[0;32mor\u001b[0m \u001b[0m_global_backward_pre_hooks\u001b[0m \u001b[0;32mor\u001b[0m \u001b[0m_global_backward_hooks\u001b[0m\u001b[0;34m\u001b[0m\u001b[0;34m\u001b[0m\u001b[0m\n\u001b[1;32m   1746\u001b[0m                 or _global_forward_hooks or _global_forward_pre_hooks):\n\u001b[0;32m-> 1747\u001b[0;31m             \u001b[0;32mreturn\u001b[0m \u001b[0mforward_call\u001b[0m\u001b[0;34m(\u001b[0m\u001b[0;34m*\u001b[0m\u001b[0margs\u001b[0m\u001b[0;34m,\u001b[0m \u001b[0;34m**\u001b[0m\u001b[0mkwargs\u001b[0m\u001b[0;34m)\u001b[0m\u001b[0;34m\u001b[0m\u001b[0;34m\u001b[0m\u001b[0m\n\u001b[0m\u001b[1;32m   1748\u001b[0m \u001b[0;34m\u001b[0m\u001b[0m\n\u001b[1;32m   1749\u001b[0m         \u001b[0mresult\u001b[0m \u001b[0;34m=\u001b[0m \u001b[0;32mNone\u001b[0m\u001b[0;34m\u001b[0m\u001b[0;34m\u001b[0m\u001b[0m\n",
            "\u001b[0;32m/usr/local/lib/python3.11/dist-packages/torch/nn/modules/container.py\u001b[0m in \u001b[0;36mforward\u001b[0;34m(self, input)\u001b[0m\n\u001b[1;32m    248\u001b[0m     \u001b[0;32mdef\u001b[0m \u001b[0mforward\u001b[0m\u001b[0;34m(\u001b[0m\u001b[0mself\u001b[0m\u001b[0;34m,\u001b[0m \u001b[0minput\u001b[0m\u001b[0;34m)\u001b[0m\u001b[0;34m:\u001b[0m\u001b[0;34m\u001b[0m\u001b[0;34m\u001b[0m\u001b[0m\n\u001b[1;32m    249\u001b[0m         \u001b[0;32mfor\u001b[0m \u001b[0mmodule\u001b[0m \u001b[0;32min\u001b[0m \u001b[0mself\u001b[0m\u001b[0;34m:\u001b[0m\u001b[0;34m\u001b[0m\u001b[0;34m\u001b[0m\u001b[0m\n\u001b[0;32m--> 250\u001b[0;31m             \u001b[0minput\u001b[0m \u001b[0;34m=\u001b[0m \u001b[0mmodule\u001b[0m\u001b[0;34m(\u001b[0m\u001b[0minput\u001b[0m\u001b[0;34m)\u001b[0m\u001b[0;34m\u001b[0m\u001b[0;34m\u001b[0m\u001b[0m\n\u001b[0m\u001b[1;32m    251\u001b[0m         \u001b[0;32mreturn\u001b[0m \u001b[0minput\u001b[0m\u001b[0;34m\u001b[0m\u001b[0;34m\u001b[0m\u001b[0m\n\u001b[1;32m    252\u001b[0m \u001b[0;34m\u001b[0m\u001b[0m\n",
            "\u001b[0;32m/usr/local/lib/python3.11/dist-packages/torch/nn/modules/module.py\u001b[0m in \u001b[0;36m_wrapped_call_impl\u001b[0;34m(self, *args, **kwargs)\u001b[0m\n\u001b[1;32m   1734\u001b[0m             \u001b[0;32mreturn\u001b[0m \u001b[0mself\u001b[0m\u001b[0;34m.\u001b[0m\u001b[0m_compiled_call_impl\u001b[0m\u001b[0;34m(\u001b[0m\u001b[0;34m*\u001b[0m\u001b[0margs\u001b[0m\u001b[0;34m,\u001b[0m \u001b[0;34m**\u001b[0m\u001b[0mkwargs\u001b[0m\u001b[0;34m)\u001b[0m  \u001b[0;31m# type: ignore[misc]\u001b[0m\u001b[0;34m\u001b[0m\u001b[0;34m\u001b[0m\u001b[0m\n\u001b[1;32m   1735\u001b[0m         \u001b[0;32melse\u001b[0m\u001b[0;34m:\u001b[0m\u001b[0;34m\u001b[0m\u001b[0;34m\u001b[0m\u001b[0m\n\u001b[0;32m-> 1736\u001b[0;31m             \u001b[0;32mreturn\u001b[0m \u001b[0mself\u001b[0m\u001b[0;34m.\u001b[0m\u001b[0m_call_impl\u001b[0m\u001b[0;34m(\u001b[0m\u001b[0;34m*\u001b[0m\u001b[0margs\u001b[0m\u001b[0;34m,\u001b[0m \u001b[0;34m**\u001b[0m\u001b[0mkwargs\u001b[0m\u001b[0;34m)\u001b[0m\u001b[0;34m\u001b[0m\u001b[0;34m\u001b[0m\u001b[0m\n\u001b[0m\u001b[1;32m   1737\u001b[0m \u001b[0;34m\u001b[0m\u001b[0m\n\u001b[1;32m   1738\u001b[0m     \u001b[0;31m# torchrec tests the code consistency with the following code\u001b[0m\u001b[0;34m\u001b[0m\u001b[0;34m\u001b[0m\u001b[0m\n",
            "\u001b[0;32m/usr/local/lib/python3.11/dist-packages/torch/nn/modules/module.py\u001b[0m in \u001b[0;36m_call_impl\u001b[0;34m(self, *args, **kwargs)\u001b[0m\n\u001b[1;32m   1745\u001b[0m                 \u001b[0;32mor\u001b[0m \u001b[0m_global_backward_pre_hooks\u001b[0m \u001b[0;32mor\u001b[0m \u001b[0m_global_backward_hooks\u001b[0m\u001b[0;34m\u001b[0m\u001b[0;34m\u001b[0m\u001b[0m\n\u001b[1;32m   1746\u001b[0m                 or _global_forward_hooks or _global_forward_pre_hooks):\n\u001b[0;32m-> 1747\u001b[0;31m             \u001b[0;32mreturn\u001b[0m \u001b[0mforward_call\u001b[0m\u001b[0;34m(\u001b[0m\u001b[0;34m*\u001b[0m\u001b[0margs\u001b[0m\u001b[0;34m,\u001b[0m \u001b[0;34m**\u001b[0m\u001b[0mkwargs\u001b[0m\u001b[0;34m)\u001b[0m\u001b[0;34m\u001b[0m\u001b[0;34m\u001b[0m\u001b[0m\n\u001b[0m\u001b[1;32m   1748\u001b[0m \u001b[0;34m\u001b[0m\u001b[0m\n\u001b[1;32m   1749\u001b[0m         \u001b[0mresult\u001b[0m \u001b[0;34m=\u001b[0m \u001b[0;32mNone\u001b[0m\u001b[0;34m\u001b[0m\u001b[0;34m\u001b[0m\u001b[0m\n",
            "\u001b[0;32m/usr/local/lib/python3.11/dist-packages/torch/nn/modules/linear.py\u001b[0m in \u001b[0;36mforward\u001b[0;34m(self, input)\u001b[0m\n\u001b[1;32m    123\u001b[0m \u001b[0;34m\u001b[0m\u001b[0m\n\u001b[1;32m    124\u001b[0m     \u001b[0;32mdef\u001b[0m \u001b[0mforward\u001b[0m\u001b[0;34m(\u001b[0m\u001b[0mself\u001b[0m\u001b[0;34m,\u001b[0m \u001b[0minput\u001b[0m\u001b[0;34m:\u001b[0m \u001b[0mTensor\u001b[0m\u001b[0;34m)\u001b[0m \u001b[0;34m->\u001b[0m \u001b[0mTensor\u001b[0m\u001b[0;34m:\u001b[0m\u001b[0;34m\u001b[0m\u001b[0;34m\u001b[0m\u001b[0m\n\u001b[0;32m--> 125\u001b[0;31m         \u001b[0;32mreturn\u001b[0m \u001b[0mF\u001b[0m\u001b[0;34m.\u001b[0m\u001b[0mlinear\u001b[0m\u001b[0;34m(\u001b[0m\u001b[0minput\u001b[0m\u001b[0;34m,\u001b[0m \u001b[0mself\u001b[0m\u001b[0;34m.\u001b[0m\u001b[0mweight\u001b[0m\u001b[0;34m,\u001b[0m \u001b[0mself\u001b[0m\u001b[0;34m.\u001b[0m\u001b[0mbias\u001b[0m\u001b[0;34m)\u001b[0m\u001b[0;34m\u001b[0m\u001b[0;34m\u001b[0m\u001b[0m\n\u001b[0m\u001b[1;32m    126\u001b[0m \u001b[0;34m\u001b[0m\u001b[0m\n\u001b[1;32m    127\u001b[0m     \u001b[0;32mdef\u001b[0m \u001b[0mextra_repr\u001b[0m\u001b[0;34m(\u001b[0m\u001b[0mself\u001b[0m\u001b[0;34m)\u001b[0m \u001b[0;34m->\u001b[0m \u001b[0mstr\u001b[0m\u001b[0;34m:\u001b[0m\u001b[0;34m\u001b[0m\u001b[0;34m\u001b[0m\u001b[0m\n",
            "\u001b[0;31mRuntimeError\u001b[0m: mat1 and mat2 shapes cannot be multiplied (10x5 and 10x400)"
          ]
        }
      ]
    },
    {
      "cell_type": "code",
      "source": [
        "# Latent Space Interpolation\n",
        "def interpolate_gemini(model, start, end, steps=10):\n",
        "    model.eval()\n",
        "    start, end = start.view(1, -1), end.view(1, -1)\n",
        "    # Fix: Remove the chunk operation and use the full latent dimension\n",
        "    #z = torch.cat([start + (end - start) * t / steps for t in range(steps)])\n",
        "    # Instead, directly interpolate between start and end in the latent space\n",
        "    z = torch.cat([start + (end - start) * t / steps for t in range(steps + 1)]) # Include 'end' in the interpolation\n",
        "    with torch.no_grad():\n",
        "        images = model.decoder(z).view(-1, 28, 28)\n",
        "    fig, axes = plt.subplots(1, steps + 1, figsize=(steps + 1, 1)) # Add 1 to steps for plotting\n",
        "    for i in range(steps + 1): # Add 1 to steps for plotting\n",
        "        axes[i].imshow(images[i].cpu().numpy(), cmap='gray')\n",
        "        axes[i].axis('off')\n",
        "    plt.show()"
      ],
      "metadata": {
        "id": "8n4LY0BAwgI3"
      },
      "execution_count": 13,
      "outputs": []
    },
    {
      "cell_type": "code",
      "source": [
        "# Get a batch of data from the dataloader\n",
        "data, _ = next(iter(train_loader))\n",
        "\n",
        "# Encode the data to get the latent space representation (mu)\n",
        "with torch.no_grad():\n",
        "    encoded_data, mu, logvar = vae.encoder(data.view(-1, 28*28))\n",
        "\n",
        "# Select two points in the latent space to interpolate between\n",
        "start_index = 0  # Index of the first data point\n",
        "end_index = 1    # Index of the second data point\n",
        "start_latent = mu[start_index]  # Latent representation of the first data point\n",
        "end_latent = mu[end_index]    # Latent representation of the second data point\n",
        "\n",
        "# Interpolate between the two latent points using the modified interpolate function\n",
        "interpolate_gemini(vae, start_latent, end_latent, steps=10)  # Generate 10 intermediate images"
      ],
      "metadata": {
        "colab": {
          "base_uri": "https://localhost:8080/",
          "height": 221
        },
        "id": "sFnYuGPKxLJW",
        "outputId": "bdf89509-375e-4134-de1d-f439a717ec82"
      },
      "execution_count": 16,
      "outputs": [
        {
          "output_type": "error",
          "ename": "ValueError",
          "evalue": "too many values to unpack (expected 3)",
          "traceback": [
            "\u001b[0;31m---------------------------------------------------------------------------\u001b[0m",
            "\u001b[0;31mValueError\u001b[0m                                Traceback (most recent call last)",
            "\u001b[0;32m<ipython-input-16-5688e508beb1>\u001b[0m in \u001b[0;36m<cell line: 0>\u001b[0;34m()\u001b[0m\n\u001b[1;32m      4\u001b[0m \u001b[0;31m# Encode the data to get the latent space representation (mu)\u001b[0m\u001b[0;34m\u001b[0m\u001b[0;34m\u001b[0m\u001b[0m\n\u001b[1;32m      5\u001b[0m \u001b[0;32mwith\u001b[0m \u001b[0mtorch\u001b[0m\u001b[0;34m.\u001b[0m\u001b[0mno_grad\u001b[0m\u001b[0;34m(\u001b[0m\u001b[0;34m)\u001b[0m\u001b[0;34m:\u001b[0m\u001b[0;34m\u001b[0m\u001b[0;34m\u001b[0m\u001b[0m\n\u001b[0;32m----> 6\u001b[0;31m     \u001b[0mencoded_data\u001b[0m\u001b[0;34m,\u001b[0m \u001b[0mmu\u001b[0m\u001b[0;34m,\u001b[0m \u001b[0mlogvar\u001b[0m \u001b[0;34m=\u001b[0m \u001b[0mvae\u001b[0m\u001b[0;34m.\u001b[0m\u001b[0mencoder\u001b[0m\u001b[0;34m(\u001b[0m\u001b[0mdata\u001b[0m\u001b[0;34m.\u001b[0m\u001b[0mview\u001b[0m\u001b[0;34m(\u001b[0m\u001b[0;34m-\u001b[0m\u001b[0;36m1\u001b[0m\u001b[0;34m,\u001b[0m \u001b[0;36m28\u001b[0m\u001b[0;34m*\u001b[0m\u001b[0;36m28\u001b[0m\u001b[0;34m)\u001b[0m\u001b[0;34m)\u001b[0m\u001b[0;34m\u001b[0m\u001b[0;34m\u001b[0m\u001b[0m\n\u001b[0m\u001b[1;32m      7\u001b[0m \u001b[0;34m\u001b[0m\u001b[0m\n\u001b[1;32m      8\u001b[0m \u001b[0;31m# Select two points in the latent space to interpolate between\u001b[0m\u001b[0;34m\u001b[0m\u001b[0;34m\u001b[0m\u001b[0m\n",
            "\u001b[0;31mValueError\u001b[0m: too many values to unpack (expected 3)"
          ]
        }
      ]
    },
    {
      "cell_type": "code",
      "source": [
        "# Get a batch of data from the dataloader\n",
        "data, _ = next(iter(train_loader))\n",
        "\n",
        "# Encode the data to get the latent space representation (mu)\n",
        "with torch.no_grad():\n",
        "    # Get the encoded parameters\n",
        "    encoded_params = vae.encoder(data.view(-1, 28*28))\n",
        "    # Split the encoded parameters into mu and logvar\n",
        "    mu, logvar = encoded_params[:, :vae.latent_dim], encoded_params[:, vae.latent_dim:]\n",
        "\n",
        "# Select two points in the latent space to interpolate between\n",
        "start_index = 0  # Index of the first data point\n",
        "end_index = 1    # Index of the second data point\n",
        "start_latent = mu[start_index]  # Latent representation of the first data point\n",
        "end_latent = mu[end_index]    # Latent representation of the second data point\n",
        "\n",
        "# Interpolate between the two latent points using the modified interpolate function\n",
        "interpolate_gemini(vae, start_latent, end_latent, steps=10)  # Generate 10 intermediate images"
      ],
      "metadata": {
        "colab": {
          "base_uri": "https://localhost:8080/",
          "height": 95
        },
        "id": "R74-SYXFx2NG",
        "outputId": "4f0a03f6-f686-45ee-c8d9-81622c8ec66b"
      },
      "execution_count": 24,
      "outputs": [
        {
          "output_type": "display_data",
          "data": {
            "text/plain": [
              "<Figure size 1100x100 with 11 Axes>"
            ],
            "image/png": "[encoded data removed]"
          },
          "metadata": {}
        }
      ]
    },
    {
      "cell_type": "code",
      "source": [
        "# write a function to animate this interpolation\n",
        "!pip install matplotlib\n",
        "!pip install celluloid"
      ],
      "metadata": {
        "colab": {
          "base_uri": "https://localhost:8080/"
        },
        "id": "jSFB1A4nytMg",
        "outputId": "e78dc540-cb03-4191-e5cd-44d9b065e86c"
      },
      "execution_count": 25,
      "outputs": [
        {
          "output_type": "stream",
          "name": "stdout",
          "text": [
            "Requirement already satisfied: matplotlib in /usr/local/lib/python3.11/dist-packages (3.10.0)\n",
            "Requirement already satisfied: contourpy>=1.0.1 in /usr/local/lib/python3.11/dist-packages (from matplotlib) (1.3.1)\n",
            "Requirement already satisfied: cycler>=0.10 in /usr/local/lib/python3.11/dist-packages (from matplotlib) (0.12.1)\n",
            "Requirement already satisfied: fonttools>=4.22.0 in /usr/local/lib/python3.11/dist-packages (from matplotlib) (4.56.0)\n",
            "Requirement already satisfied: kiwisolver>=1.3.1 in /usr/local/lib/python3.11/dist-packages (from matplotlib) (1.4.8)\n",
            "Requirement already satisfied: numpy>=1.23 in /usr/local/lib/python3.11/dist-packages (from matplotlib) (1.26.4)\n",
            "Requirement already satisfied: packaging>=20.0 in /usr/local/lib/python3.11/dist-packages (from matplotlib) (24.2)\n",
            "Requirement already satisfied: pillow>=8 in /usr/local/lib/python3.11/dist-packages (from matplotlib) (11.1.0)\n",
            "Requirement already satisfied: pyparsing>=2.3.1 in /usr/local/lib/python3.11/dist-packages (from matplotlib) (3.2.1)\n",
            "Requirement already satisfied: python-dateutil>=2.7 in /usr/local/lib/python3.11/dist-packages (from matplotlib) (2.8.2)\n",
            "Requirement already satisfied: six>=1.5 in /usr/local/lib/python3.11/dist-packages (from python-dateutil>=2.7->matplotlib) (1.17.0)\n",
            "Collecting celluloid\n",
            "  Downloading celluloid-0.2.0-py3-none-any.whl.metadata (4.8 kB)\n",
            "Requirement already satisfied: matplotlib in /usr/local/lib/python3.11/dist-packages (from celluloid) (3.10.0)\n",
            "Requirement already satisfied: contourpy>=1.0.1 in /usr/local/lib/python3.11/dist-packages (from matplotlib->celluloid) (1.3.1)\n",
            "Requirement already satisfied: cycler>=0.10 in /usr/local/lib/python3.11/dist-packages (from matplotlib->celluloid) (0.12.1)\n",
            "Requirement already satisfied: fonttools>=4.22.0 in /usr/local/lib/python3.11/dist-packages (from matplotlib->celluloid) (4.56.0)\n",
            "Requirement already satisfied: kiwisolver>=1.3.1 in /usr/local/lib/python3.11/dist-packages (from matplotlib->celluloid) (1.4.8)\n",
            "Requirement already satisfied: numpy>=1.23 in /usr/local/lib/python3.11/dist-packages (from matplotlib->celluloid) (1.26.4)\n",
            "Requirement already satisfied: packaging>=20.0 in /usr/local/lib/python3.11/dist-packages (from matplotlib->celluloid) (24.2)\n",
            "Requirement already satisfied: pillow>=8 in /usr/local/lib/python3.11/dist-packages (from matplotlib->celluloid) (11.1.0)\n",
            "Requirement already satisfied: pyparsing>=2.3.1 in /usr/local/lib/python3.11/dist-packages (from matplotlib->celluloid) (3.2.1)\n",
            "Requirement already satisfied: python-dateutil>=2.7 in /usr/local/lib/python3.11/dist-packages (from matplotlib->celluloid) (2.8.2)\n",
            "Requirement already satisfied: six>=1.5 in /usr/local/lib/python3.11/dist-packages (from python-dateutil>=2.7->matplotlib->celluloid) (1.17.0)\n",
            "Downloading celluloid-0.2.0-py3-none-any.whl (5.4 kB)\n",
            "Installing collected packages: celluloid\n",
            "Successfully installed celluloid-0.2.0\n"
          ]
        }
      ]
    },
    {
      "cell_type": "code",
      "source": [
        "from IPython.display import HTML\n",
        "import matplotlib.pyplot as plt\n",
        "import matplotlib.animation as animation\n",
        "from celluloid import Camera"
      ],
      "metadata": {
        "id": "FnPGfc8TzFqm"
      },
      "execution_count": 26,
      "outputs": []
    },
    {
      "cell_type": "code",
      "source": [
        "# animate the interpolation\n",
        "def animate_interpolation(model, start, end, steps=10):\n",
        "    \"\"\"Animates the interpolation between two points in the latent space.\n",
        "\n",
        "    Args:\n",
        "        model: The trained VAE model.\n",
        "        start: The starting point in the latent space.\n",
        "        end: The ending point in the latent space.\n",
        "        steps: The number of interpolation steps.\n",
        "    \"\"\"\n",
        "    model.eval()\n",
        "    start, end = start.view(1, -1), end.view(1, -1)\n",
        "    z = torch.cat([start + (end - start) * t / steps for t in range(steps + 1)])\n",
        "    with torch.no_grad():\n",
        "        images = model.decoder(z).view(-1, 28, 28)\n",
        "\n",
        "    fig = plt.figure()\n",
        "    camera = Camera(fig)\n",
        "    for i in range(steps + 1):\n",
        "        plt.imshow(images[i].cpu().numpy(), cmap='gray')\n",
        "        plt.title(f\"Interpolation Step: {i}\")\n",
        "        camera.snap()\n",
        "\n",
        "    animation_ = camera.animate()\n",
        "    # Display the animation in the notebook\n",
        "    return HTML(animation_.to_html5_video())"
      ],
      "metadata": {
        "id": "NfzvEOMHzLOZ"
      },
      "execution_count": 27,
      "outputs": []
    },
    {
      "cell_type": "code",
      "source": [
        "## now animate the interpolation between start and end latent vectors\n",
        "# Get a batch of data from the dataloader\n",
        "data, _ = next(iter(train_loader))\n",
        "\n",
        "# Encode the data to get the latent space representation (mu)\n",
        "with torch.no_grad():\n",
        "    # Get the encoded parameters\n",
        "    encoded_params = vae.encoder(data.view(-1, 28*28))\n",
        "    # Split the encoded parameters into mu and logvar\n",
        "    mu, logvar = encoded_params[:, :vae.latent_dim], encoded_params[:, vae.latent_dim:]\n",
        "\n",
        "# Select two points in the latent space to interpolate between\n",
        "start_index = 0  # Index of the first data point\n",
        "end_index = 1    # Index of the second data point\n",
        "start_latent = mu[start_index]  # Latent representation of the first data point\n",
        "end_latent = mu[end_index]    # Latent representation of the second data point\n",
        "\n",
        "# Animate the interpolation\n",
        "animation = animate_interpolation(vae, start_latent, end_latent, steps=10)\n",
        "display(animation)"
      ],
      "metadata": {
        "colab": {
          "base_uri": "https://localhost:8080/",
          "height": 937
        },
        "id": "06Q50WTizQ3H",
        "outputId": "f598764d-d6ae-4328-d603-e0b49ad33110"
      },
      "execution_count": 32,
      "outputs": [
        {
          "output_type": "display_data",
          "data": {
            "text/plain": [
              "<IPython.core.display.HTML object>"
            ],
            "text/html": [
              "<video width=\"640\" height=\"480\" controls autoplay loop>\n",
              "  <source type=\"video/mp4\" src=\"data:video/mp4;base64,AAAAIGZ0eXBNNFYgAAACAE00ViBpc29taXNvMmF2YzEAAAAIZnJlZQAAR/ptZGF0AAACrQYF//+p\n",
              "3EXpvebZSLeWLNgg2SPu73gyNjQgLSBjb3JlIDE2MyByMzA2MCA1ZGI2YWE2IC0gSC4yNjQvTVBF\n",
              "Ry00IEFWQyBjb2RlYyAtIENvcHlsZWZ0IDIwMDMtMjAyMSAtIGh0dHA6Ly93d3cudmlkZW9sYW4u\n",
              "b3JnL3gyNjQuaHRtbCAtIG9wdGlvbnM6IGNhYmFjPTEgcmVmPTMgZGVibG9jaz0xOjA6MCBhbmFs\n",
              "eXNlPTB4MzoweDExMyBtZT1oZXggc3VibWU9NyBwc3k9MSBwc3lfcmQ9MS4wMDowLjAwIG1peGVk\n",
              "X3JlZj0xIG1lX3JhbmdlPTE2IGNocm9tYV9tZT0xIHRyZWxsaXM9MSA4eDhkY3Q9MSBjcW09MCBk\n",
              "ZWFkem9uZT0yMSwxMSBmYXN0X3Bza2lwPTEgY2hyb21hX3FwX29mZnNldD0tMiB0aHJlYWRzPTMg\n",
              "bG9va2FoZWFkX3RocmVhZHM9MSBzbGljZWRfdGhyZWFkcz0wIG5yPTAgZGVjaW1hdGU9MSBpbnRl\n",
              "cmxhY2VkPTAgYmx1cmF5X2NvbXBhdD0wIGNvbnN0cmFpbmVkX2ludHJhPTAgYmZyYW1lcz0zIGJf\n",
              "cHlyYW1pZD0yIGJfYWRhcHQ9MSBiX2JpYXM9MCBkaXJlY3Q9MSB3ZWlnaHRiPTEgb3Blbl9nb3A9\n",
              "MCB3ZWlnaHRwPTIga2V5aW50PTI1MCBrZXlpbnRfbWluPTUgc2NlbmVjdXQ9NDAgaW50cmFfcmVm\n",
              "cmVzaD0wIHJjX2xvb2thaGVhZD00MCByYz1jcmYgbWJ0cmVlPTEgY3JmPTIzLjAgcWNvbXA9MC42\n",
              "MCBxcG1pbj0wIHFwbWF4PTY5IHFwc3RlcD00IGlwX3JhdGlvPTEuNDAgYXE9MToxLjAwAIAAABaB\n",
              "ZYiEABP//vexj4FNyAANlzqKeh/hFbH0kFF6sdmgZOoAAAMAAAMAAAMCKBe14pAwmV514AAAGTN6\n",
              "j/EUe/4ACMZ3AAiu8n5+3evuTqR9GbBi6OtDOJpWAyb13Z4fgX7mNpfu6mkC2fF7NwNldlaFd3qk\n",
              "yavz0R2ckOlL25sYbLicA5XgfHT3a/mSUUwpXEqRau+3g9B4/Jn9A29CzwBrKsRiLXP7gABfo75P\n",
              "ZW9XT0Czr8Z2aKPDGMYcJ18x3+5sA/Eh/XF66CUmvOXPSBjium5/UA8YUHURAckBUqYPMEM7kfT3\n",
              "9EG3nnOZaOHefnBumlSqdDaZdB7ZFDwIto6UR7GP5lBER03btvkE2v4PxR/qD+Iv7KtAyUvm3hzq\n",
              "hH9y4ld18/m5liMs67OYM8CAqqLyLRnDERn/qSRJ4gckH5YJjOb8yFR9SOe/rqvvjGjnqWPDQsLj\n",
              "tAm6Ndo88vVHz9veC/aHGVYKjDNdhhmhWIh5C2BWlJJK3+WcLKFYA1Mftr4Xp2TkhR+NzqkBSYaY\n",
              "0tm32MKcajEFDJwjf64uBXoQuzQRN4XAcQnG4spE23JoYyAvMz7kyvLmovuhJ0JgMbBZnnStj67Q\n",
              "Ft78ZWL99RUkZT0reGCiAgDy3WRmkOx5XWXcBPt4dyyst1AVLtDp0aX9IK2T9SU/w27Y9xpldE3p\n",
              "k8tVJrbqGbrfeHx3TTuBGU2hfcM+wYLN/AJ97+ZUHhl4j5NVlg3nDwr2xGCm8+IFnURtfi1CtEFZ\n",
              "SYyKzknD5GgbPGed/G+ltbi7bXqwm05Tkv3NOf2uLx9lzi7VymQd8vkGkA0DJgH0avD729Km2s+7\n",
              "z0XXYfUby0BXPScEKtG9NcqLwGaa1pcTdHmVSxUtn3uhEmHosdeOXaybbUkuM4uEMLON8GPRT8ZM\n",
              "CyuNVSAzAoayYJ7zdgRmcga8DZ6zTbpCqb6ttoH8UlGJavR8POGQmFBNHL/HhSXYNI1mQoP7t6yh\n",
              "5RQgVUXKgnWBIJTnG0ZNPA0H1fRN1Bz3f6G9uZuZEDe0lZACJvI6M5Pjbs7CUpU4NGAY0dKPBocn\n",
              "xTDFOFUXQqYmAQ821ptVmgMSMu6L41frGrfuat1MLgM5WryDeFLWpFSQmSazgPldfXAvqNOj3289\n",
              "Tj0taf82LYRmk4alEVU785TfBBeXDTojcAOMrKZ3Xo46Nq7yrJJmyLc4k0Zpe4BKLM9T+Z3KB/EO\n",
              "5SBCP5BGWtj45u+qPmEcxY4vyNE9pzlkUHJpWew9hFy0rXYiHwnhPRcZylagv/ebll6AroOGGcuF\n",
              "SMKirJaYQ4JRCwslpUsrXlElnyQ5+xFKrqiWRC1OtI76uVy41AzcMJ/vYnUdnNLvmAx3L3SIDmyx\n",
              "vQRmBMzC0cASrdGhRK0FozUMx7b4nckO6g5+t5n3bXc8yt0Q7HojzpbQgRoXvO2PkbK62qfvjkmT\n",
              "7xaYmWJVEPAssuzHsmJlIPglo8f9RthtvAoJ22oe/Ga/SP6LSe5HzsKaSYpTaE41JFKiHNnTNTVL\n",
              "HA8kujNIeKhQuu4a948yO8bAWyhOZHORxHJHHL6LJfa79WdczRBBdpEI+MPzM/Kloj48Dpu2zBj7\n",
              "XjnbtIZdlrYO/DoAjpHAkiSkFVe4PeGluTJpWMJTKN+rH48Z4GjrBbU5tfxZ6SXvYhHmxEu1AFz4\n",
              "WtWxWLdpdeWP7ROdAZFu1y8xLqHfgnjZoZwNtw4ADvLjn9dYMhtgB2dDPlhkJc8P7/O8fwqNrWV7\n",
              "M0KXpMdy5GMDqXOxOKqs6Fw7v5YhusonF4bNYXywnDFT57YR20rpoO2hc+U4GVW5/eXwz6fD5X//\n",
              "9ZVQ2sbazEbvlaR6VK5RamyXpj0qz8+iniRQC8TSRZMChFHR3IPvgVuQyXPvAVwKFYeI/j0YR+Iu\n",
              "BrjAsVD2DBG3qMx+ZOXrIqcjaVUso5ILG0jnNfwMEm+1jnCXyTpczNd2qc993zGGyhG5uBqM0hBa\n",
              "XHfvEUgnL7z+F//xd0QiRkPS5xy7OhP5Od9EZ+IhDJtGbeUd3/8ZN/Fofa09TSOe8YwVrySJLko2\n",
              "st7WXW2KGJuEcD7N+Jfhjf2hXEAXgoi45z7Z+MPJ9r4w432qA8RWCPF4hEReQfkXgO3x2vY/GxK8\n",
              "9WUyALVVZ6NuHPxvA01lOj1p5R8zn8gNx5P70tPjZq+sFYWMbtGjbTtcILzWHrBIxR0sPVxok6fg\n",
              "R5s6FIPJmEInYuzSQ12E1K23ur3BmPDhTj3aVnhPWhr7pypzfJUQps1N0yPDMxHBxOS3cx1vCRfX\n",
              "kagYaL1DOpwNbIl0uzqMNXW+byz2Az5+/vDNJuZHNPDw//0Vt83DoBNMHd5GTakODvkCVsd4gIHP\n",
              "LLt4auATpp/kEo4XzAf/SFOdIcXLJnSDbiREFDV/jonexxg71f4aOmC8RGg6eDF0zqPj+6azVZAb\n",
              "49XX7ftjjCnTaZyFhvmvvo2fDnrPI2zPWYGKbOux7mZh151zTi2arEPYJoMuJPPBDs+NhBmVI1Uu\n",
              "fvYDw0lEdnZkuv6yg+zgBDIX2gBupTcDXk6YAAvqMw42oyS8aJ2YS3chDffgLKo3p/w3Vz//o/k7\n",
              "vQs7nfi8iPcKSEJSwJgzBuqM6hIWfIQJdXpkEVicJtM6kgNoE9vXWH0KV0ag2PmISzveXI391sW3\n",
              "8sJEVQ2Y1A48hIZRS9CL0S++9wbHvl0cuqi2JOdvDrYg5BWbx7CjOgx7wKPi4RFx8uJ5v0InMPpE\n",
              "y/nsYErgzc9M2ksf/OqI3a1+Vac/Wd3bKf4P20HbHpZEtqZqdQw7Sz9Vi1/kzNE+CzDfVsuBpw2k\n",
              "gnjza9pdDcBo/pI2c6/v202zC+aXd80nGVgZMVIsrh3Y8z8w8Gx2dViWr7O56bT3YchBenOzcHxj\n",
              "YPhn2LSQI0IC7+Bh7mtCYRG693YISeUBdaHqIc9y3wrkvwvecm2d1tfSCcHAIbOByJhpnoGJJXyO\n",
              "jBfjYM4f91IgVN1hhsyUvPfQ/1V8wA6WjJ52HPOtybMF9fw50MqgZ2NgYFtVTmXiHkBWseiPzy9S\n",
              "NCk+oAYAPJZGPYQBhXNQZIy6hMee0kKoKHLJLTAfzkrqqMbKnmgyEL/QNaxxJ//jQtl973/dHj5p\n",
              "FU21Tsw3/egM0HdYRGAt/r+9Z/8Sb1W+t26RerWqB65JYubGSfBm0QrlcitGL+ijSHUnjh7+z8k/\n",
              "RPRq5a862paakxiwzBnm2YB3KQx1uVuMcfS6Z1HTPca874wtQ9/O2/VXHtCh9xf+Msddd0PJq/+o\n",
              "jmhRCZoC49LOyy0o6A+Gnqf9CxSCwUDZQrDUptgvoPokSrZcdDgbtTo855h4vuZftw1paB5UzSQS\n",
              "KAtUaLtN4MinhvYaeP6SakBHYceK/Ik/ZPJtjPAiD69gbH39pl9iQZl+Xcsdl2+P3yDF0PTda06i\n",
              "sepqkadXDRWM2sC3JiclCC6DGycaONN926Ik/U2D/VARW/L3k9/E0FaaXdCfFOGOFTgr/cOwASnK\n",
              "XJF/LtIXLLOmyI93UkIrhvVboj4MfYWEY5gnhw4cAhmW7dpcY2QZ1t7eqeXEbrSSm+YYPFJs0VHH\n",
              "XsV/VXdUcLlG3WIxlth9ogCRFWY9/PRIhp6GJ/HtCiZEm5nzFmNAI6za23PUCB83Ujy+DphWodEQ\n",
              "wEv3wWbVvin5Hx5DGEPpGB+nDY9MOTWo811x13GOSM/GJLsWyW0/LnBJkqrKs9wzhQys95Vt7j8Q\n",
              "kFoe+cguphYLZwZUH1LYWmNIOmAz9ynqAgHYkbBT7TzRM2t6oL6TxmU1E/Kbfn/0VQn1ERCPRz/f\n",
              "iyq550IcTBlhcO+0GHxf57j6yr5PqvaKl/atADzcQ9vS7ddOGnBaMDhnqaZ3CJXF2yJiH5AgXLjm\n",
              "ub9/a23kGu5dW2FkKP8P+jHaTieank6QIJQwGaqAwWKqs34LbCpm+ZvcxvrU4IjK88E3l5/yRTIV\n",
              "WTSZR6uIj/dd2AJFG1ZL0XtzXqsrsrhYlsIKSh6xHPkdPPosaApvKqMgUOnuUjj4TgYxS4GuIWz5\n",
              "HexzoVgEgPfhJ/3C/WlskgnTW9HTvP88gHE/jLz23wCiJaFrZR304SoK1ohngHR0b2f/U1yWqeg5\n",
              "9edQIVWNnCbL2QECbk/QRt8BaggTfUK3MmMH55FH1d/mhdQ5RmQ+pNRpBpvevl1H+H0mcnqPk9uh\n",
              "b6hmigvo9oMCs7g+iK/VIzuljZiE/YsL0e5laaA02rupYgcb8bt8IOLJDjZIhCwVglY93PUfyd7m\n",
              "RDr7rmVyS3p4xZ4IZolQpmEzAs8hpeBSYo3pMttVa4MMZFB87r3L+q+Hq8IfIAz8UuOw77jCZPxt\n",
              "em1TTebpPAdCJ6aC5tRrVElHGdIRjGUBka8s/GCLqDq8Tm2Wl8KgSoXOscgkwKL08i84tWktKU2y\n",
              "r00AufROZzd/BbKNYbmdxu6m2vzefsGvnK/JQ1w/gMa5qFtB2t7NPA2ZyT5omAjOfiZsB/wtWZhb\n",
              "b3zsL5FOUsi+rJMAAIUwm6qc1Fe7KjOHwVDECwSp6Sufq0+o2xnjubUhdHuy8kzQvCaDnsEWkHFn\n",
              "HZHbBFTGwxKxGoQqPIttTpYO9fKIZzaKEjSU1IKuNIU/5mj24gQgt9r91P3tv6FMf70t6FQOQlFB\n",
              "8UCYPc+gFmvGE88NZpar4lCTDaTIE1ZDaobqhtHw87ABAWGJvWYi/bu3qshJJ1PEyyUs/Iec0VUX\n",
              "aMF31eI0kpoPyaAAHVoXTZHyfdqdanIixmzm6Syuk0vHvV2vP2bmsORfu0C+huhodGLI7ScB59Us\n",
              "L3tiH7CUOX6Uep2TCsgztgBSe1snXHSaPs8SU+XpFX83lagNF3hAsIErjpqNV0d4K6Co7SHvKhax\n",
              "p4WwW2VEfX0t7NCeUu9Vg3HHP59fegfV2GFrLvP32zdPku/VWRCgEbP5zZxinyTvyqER+ml0Kjum\n",
              "1bphfSJgmYCxA7X+rWXe2RxKq8BseH77TD+Yga5ia7CeFq/vRx98RpbT/iH5uNBJ0jwh54JBgMtB\n",
              "cRnJUEVW1C4PLNMPNLV6+b7zxYdAfkADcKhMoXywIQRVu/mmMbMbeH3rZ4Lm6liJPG9Jb4n8FSUq\n",
              "dr/SDtdNbSF7orBzEMNCPWU1XiAvZA+NzWvIkazobwaSdUMD8dK/9r2XSN8NOCRPXfi/8wXUwW4T\n",
              "jGV2BYOhZpH/7pqtCEgHRd6VnQMujrzjj3ekfJiRn1AXSwuXXWFb6Jqxz7hBJk7eyXj+/wYaQVgX\n",
              "UcO/6UzYazgJq2087N1z641X+RuP9+LbhuEeVnysZ7MiEyVHjFMUIEyWfr/2+f/CCoqVePH7s+Up\n",
              "NBhAs1fOO3IkVHprN78fn78xqUNBzv5wmgjhkN0FdExCO3ddv+AStnkbpzA1oJFcu9j9aF3kt+Q2\n",
              "AMLQzSJGgkyF8625CjH42bys69HFLMZKxyjsoqcuMhLaftIrbDz2CqVhFLpCI5mwdAUJuHpQBO6k\n",
              "c57tOXYF6x2Gb52hXsyUMeAFmDfG3pdJJgyhPfUE3vUgvzH59l9Vmlvx3AI/CSDM8ystAmVaJW2Q\n",
              "KgaLiOcR17FUwY+CSxvt7wiszfm70Om+K46t/u0yLQCtNUXA76loVayFv1AqSm1anWxecijYbGyB\n",
              "UGAPccxXRVRxlzHHeORw1wz76MUXdA/xoMjt1UjGH/fZzbMGGYz4cTxUmMRNgCQV71hlWXirWmel\n",
              "ntBjO4V2oVJxYerQRicJJ/41TvSOOYc4P/hTRo68nKgHApaeCf4fuEJrZeZoccGc15mErs6eoUAv\n",
              "kn3zfaX6a9vCW9d57HTpBc0ozg7B+lW7r4sAAInqwth83sXK/5aREd9jYjjspEfjq3T0zmNA57p5\n",
              "atbBLecxISMFsJXa/tVVGiicf+VEWWxe5A5nQa1JbaEaXct5jwLCIaHTtBEzmOgty8snWGiGwJCS\n",
              "YzAZMVcZWfbNBn0zZb8xwCQjwCxpfk1B/Q52MVVrBkRaqvMpftsMQaJeCznQUtFU8DUEOueip085\n",
              "qUNY7KHh4QjUUjn22dmlxjhiPyMxnQoyVXVAKGrbV99AAXdHvvMHepTXgQ4HIv0z99XZUkhqmOvP\n",
              "4VOtq2J91aIIyKY95EQYDbOQp/WiJqdr/I9Ad6j6AooNhuriC6Y3h/Y9bKhY0HuIzlob+rbHgTCy\n",
              "TqiQBk4ZgUg7cTiYEo9wSujTGshMQeCEAbBloVnNWRKscSWGA/+xg24KjdZ30H0+VIP3KxMl9d4s\n",
              "Lzcj2n0EugLpMwfad/shYiOdim1a1AiLq9pkwUZlHK/wQ69pfn38RavMV7l8VIK+4GrAkj03j67p\n",
              "BmufimGxc8vQVgOQg6q2KgnbCZXGBu8/bYrSNNwwx2ES8Y7AAVU1GndQOoJbEZxSRou9uiGW2MSu\n",
              "yvR2acDxsZjysR2dtJj4fpius2aFtfANEFjCmWbYLlP84AAAS+bN8ou+Ait2wXs+/3VaRlzxNTdV\n",
              "tTeh+WT50t84+k32O9dXWkzRg3T/eFgSgD1THg65+p5k/ZgqXIRe2NEtr7UBYMDMhCpo3mNYs0Pw\n",
              "smsX0Hx3CoBfyvid2D8Kz+OBHNoGW60aGjHQfwyipjV4DKCC0njV7DcGU9ydKHIyp5MpkhDcxrSc\n",
              "0ZmHjdbXY3IWL+O4s6HIlZtgyoQ8fqLP2ncEo1PS6w/mCXlki8yS921NDdhXOlrJCudRW2UMryOc\n",
              "Cw2C3sh0gNrlXDVD7PRU0kssoEet1LHlyeiO/qQ9hJe2eYbq2ncG226iP+9kV0RNuK8GuIT0yere\n",
              "+TVivRFC0LlVaSTsD2BjBHc9P4XalFwvqcZQTUkAOgAT9q6bEiTIf/TXmWrSzGsY7izjvfYZbUAA\n",
              "sU2Fe0yJAMkpMqncn1WS3fPJvhOG7dEzh9MFPrPhCYjY0AyaYjvZXUQ07MHeQXRYbyMTwZ7ut4P6\n",
              "7UUAzt+BJGPV7whAL6n1GVvAZhfl7yH5902MJPs4u8tzJbrJaFc3kdt344GWgG4N16Ovm9pmUCWi\n",
              "fqRTK5lNBnyG1O3gFfTt37hzGGaHRinlAleHR1ljrvwuz5243AGrVwXOGIdofkb87Tj/aXVkAHev\n",
              "9R3xGfIUbo5/3FvVydcCxbTMiN+x62oby1HmwFg3vJneBdd6iwREGYYHgqOIN1i5mpPFUnMJePTD\n",
              "b1M8sl0f5ZgoWpX9SLr75Iz1me0SU0ncCj96AtI4Q3r4C5qHVFgKeH8pVAhuM3KhWXkbL/EWzc90\n",
              "tjc/i898O3Ja3HWEZYBkTXXhYo2pAU4NC03BEd4ibYL8HDYuPn9oXaxVr7xmtMjzqhycB47E+FeO\n",
              "yo5T83XxkWSbvkPQRstK+UDuGsqfg5i9xB6pPXzf7leDjZzHJV4yW/9Iy94L2tO3o90LNEMYos+s\n",
              "+QYu7DYX0QqbZ4oyTx7h13Z5ONEQB9lJW3PCBF17SByplpQ5om9lnbc5W3ySCANf8qsL0gxOlHN8\n",
              "GBFz9zi6Q0YJ8+6EDLHZ0H4hNgOYi7UgUQKD3e7ssJvkFuC/G4pKXOxO7FuHlLki1lnoLdNc++Tv\n",
              "+8yr4uV01EaviTl/k04+NitC5poDhn21N7haZo/dDsrnus0kyxxcK/lk/MYE4ZeFEKS+G4pXBpfq\n",
              "ukf59TDpyygkUNczS5jGs1EnnVbGiR+C3RpOtnF9jRP8v8INYCsEmlX60M/4owC5cYACDppPrYuA\n",
              "AACXgQAACClBmiRsQT/+tSqAAClDyUACIaODnY31O1Qd3+LEZQR4Bd8QeZyINP9ECfOWCb4mJF6y\n",
              "MszwTjP1nQbvFS3oTbp9hMxoSwAf7LtY+DAyJEMN3xZh1jO94j87RIySbceFH9v0vTNcGvAmumvh\n",
              "+p6INrtYZFkKT/xJakaAVDwrQfXF2cl7Vl2YDaml6SD+8vExdnQwbgB4Nc5GL0RdpaL31kYCHsvD\n",
              "bKA7hqpBn2Ki4I2Ftd/wvMQkhqzpnM1kemxpS14ppy9nQk8nbnrUQ0FSZVXcPt9zOwP6BByJpUia\n",
              "+7M2h7MkX4Au/bogHjWA9hnEbUkTnmBDu1zoyF8apS9HGBpcVuaLrPe9nx0L9D/gPLEExBnX/BjM\n",
              "npSDbOTuPsxtGFJY2mxTUzp8O+RPiLRkE5fkxaLW9RrbhD8b+lWwv7OlR4B/JXCmmOHdbhr3U/xd\n",
              "NjSzQjA1PJl/y3ShUrdshgd/90tOh7ncxyPrRmtVKnZ8eVyzv+75SH0QoFR+VYyk3ExhASGoOGik\n",
              "mimMQo25Oo0Y+s1Ueag6rA8GA0+egeqnDJt+Rw4BRewdkOn2PE+gttyjbd1+rKSAugfuwFV2/rcN\n",
              "scLvuKytr7W+EhYUaCp1QUN81u+2OE/GRjxLDwEoO+a5Y7/1b6TajKXDs5nBI7Dc/Hb3WSUdRweM\n",
              "gIdq/NdISCHD7YPtvms1Br71zWexhwyTjdV/L18fd8UM5oP/bdIgr2SiPWcrlx7vAcLQSHgDBg1K\n",
              "hGgJdedfBocIJ/hu7FJ2w7uqIP+7etKu5VnPwGy6C5L30iuSV/4C+VcishqYdAUd++xCELmOUalu\n",
              "Df1+mAe4jsq/zF56tkjFI7IUA7YnXPzcGxPXvyqBOvzGg66+rjA8kBrYj5hJcBjnE1xhcULK/ykB\n",
              "lQBgXa+q/WS05vGcMUUabnkf3qGMsmb+C777mw8Jt28UyKdOE7OWv28WpgMHV010e7JDh6zvBU/e\n",
              "Xs5Soe0v8G1OlyXCQUXCwIsKjoCbB2iXhIpRbnymdYgG8wyQPg3XPiYnV2yTJlnYo/9Ky8gOvosN\n",
              "gRhLm1gH1W4X7daKlFnLGYEHfqttvJl/XeITjhHgB/JC8dpVR4rUlz1pE+1L/bMnFAFxeL3BfbzZ\n",
              "SCY3OLFKSXHKiTsVFqiOOjmrXfVtQC0fRnqCLPjB9MPk/ZvHF49qAHSGRntbBrI+ORDxiqdWbUsv\n",
              "lQFd01sW186xBgajv1TlA5hqro25EfyFsElQ8ckCnnsV8i//5uBBXxjrX2hrDIcZhpYGs9Oqg07D\n",
              "KBVXQ9tgw2crBhnPU6fIB0GUG+4YdDqLliwmZaw+hPxDO+2hMOK5KOB+aM11bpttNWBoouLAE9DH\n",
              "JDgRpxVH5nMpPxeuebuB8D+uQHRA8QnEd1vt5DJA+j9AxCKiac8JyYpdODHz8n+NkYiOzsjOt3ra\n",
              "HSG/pX712R3YwgTOwfPQsWvxViHJ/5t8Tu9QV9DdmXVaA+FARBK7bSA98IJn6Oss4xicM62k9RPm\n",
              "kRTJBLuEibScq7IQHk7SpepQdLOr9F7rPQdAQRb7E8oWhAeX5K6uMexqIykgtMq5AYuDJy7+zzE5\n",
              "Xx/e9Y/aR1uoA71KJ/Sn/zjBhG53aDJzPGd+LRO+oNqY5dZ/gyyR2h1uhjiDOjxdNARZGidfx3sl\n",
              "dQgVV6Lw0+hjo4AnoDNwKbKAJy6WrHU75q6s9/zs2Un9mFLx95ObITIkXTGqreuzcyPEAbDtaEon\n",
              "saD8Ru0OaCUv9yj9YNhW68fp4CJb1GIlCnZdDZXlE+I1sG3UftcwWZWt56h5mYr28XH1XvC/1+sO\n",
              "QYKF7p8BVwBMtHr0L6db4CH4WzzUdSsABFG8e2aQQp3Yr+yWqbgFVORKpgY4hubOmVTyyOTu/kRN\n",
              "eztMFtBhEkoJ10Yt+RNuCjle954dbgKdV/c51YKaojzx7CHGceNBH/iWwOL4AO8+2INWPIfczfXk\n",
              "L/iV3mBZWMHRMz0bs0n/2f3Gi/16aejfOe4NveK+UDkDyKKTpjFGEnps3yztq1eLjDBipm7E1H9U\n",
              "YP/kYNR5/yMFa7qNt1Ax+xz/4xKcWNXqtpBtTj9CRGu8KzfYwJVFkmjM2H/zYTv4NvPm5D7KkzNM\n",
              "Und5GIVfWyw4C81yhLHx/CaVP7Y/tX43MYSWpRY3LtMLHOC3xqge9ohngHZbgyFkzQxJnv4+tH8W\n",
              "lNIFA4FQGAfX7c33jEFOTsErHohFpP1xrr+5I6sM8kj9t7rB3g7soABNavqgIzD/eRETYUIDdzJP\n",
              "LjvFEh8jWk0kEzvkTg5M7t9lvC5FxGLbzrpqw8sQAv+ujgkZhKURKYgQ0DTIPw3x7FUy0jonG5fu\n",
              "NxtuSU+oxGHclrnRBZ/IC5GWs9AdHWMMw6nwua2QT8nFRjXSbvQ+aAA2/JAHS7ky9p8PTXj2qZI2\n",
              "NNBPvYedlFDaOiPe9RuJ6QdLz4VRa9xmSdHnq0G5B3D4rpyzEyO9f4WTYTtnPxRZrBtB3XnqsAZ5\n",
              "5dW+xCy8MOnNt000H98tEsuvw54Kj1fXVdg5J5/5e2czITcTTNq/iFcXXxQ//v9M0pT+IfaQWI7r\n",
              "873x9sm1DMwbLmw7Oa2H7X1eKyPP7B1jStmflYNtfOvNO73U2j1akmrbuW5LIPBWRl5QPV6mla1N\n",
              "dSa87ReSdzaiazl8rnc+qDpD4XMZRRVOn2IHQzOAxaI6apUu/gjOWjiD9H/gjlg1yjem7Vy++cX/\n",
              "fYQ2SNXkdRkYAuhAOFqFPEp9c8D3iiyzkJWmCVcab9oLlRApOFGMocBrbBQQAAAHkEGeQniCHwAA\n",
              "M5dQgGSxcB2MVLJu3eabg24z+KXyAArQEAiWpTl9Pqjk+sGINKtBJmfbJPBzZCZ3AKgO4zUKvbU4\n",
              "sz13hgt3IGvZj1VVf1vJZ5ijC1yOnatcuGjZUBXtYYKBQHuMbNpsLCbeZ1DfnqmcJFs3UnaLYt5f\n",
              "RnMvorwSxC3aviZ0GdDtCI63ihS6dDDFQmqRflKSshf/oZBgdqjZzoaUa0Q3J/UGskScZdQMB5wC\n",
              "mf1/JxHSuMnWj8ZnFdHRrPJVb7ePMXrauJa/E5es9PqmRC/+LLOqCmNMtuiuNS/ib6sFI+vOjf4O\n",
              "sF7WPAsIejsz4j1S+uBbZsPAPL4qNmqa27ADGyJLRbXP29hUcDt6lIUJ8TiNYHN/ordwl2zCdoX+\n",
              "Ef4PPIOxLETjfeJJGb8N+9nwLlcaQvX5N4eM444E3z3Wv+r6WoVzYVUOv1xyI/7J7uNIVXbHSW+d\n",
              "+9eB94uklYTmzyDB8XTsvRxuIY4ATSYLtVp2KEZeF7zXga6eVqKAa3GDrDAKTFZ4jIcUTTFOxp5D\n",
              "iEF+aEoT5aQloSsQBbgMc//rqq+1EHiVpF15RqmfU36SvlhZ0r/qA2T5L+3fQVfT7HzDaQEteyHP\n",
              "xHW/d17sbITlvvmbEsonnFp4evlTdHu8zWC7asL9NdHHo0G2fPwJukE4DfVLMZP7g8lRWOsLOhM6\n",
              "XsohNuWQsTthLuTIJ/KLl057CDTCMzX6x+jQUv+uf+VbheQfwb3iXfNm04vTfIDIMabgtNbYri7v\n",
              "9ns8l/44QrzdO2ccHpvqGtJdHwVY4KH1gIHLFyZ9AZy5bZ10luP1LxD2qEJSPzUC/YOZTV8sa3+w\n",
              "sJeF+D+b1hZXNmr0VMPtHzoQcnMo/qjsKMkNUN3mW7XVK8EDzhuzqU8eVZMEiOA3lTWQxO0GxXqO\n",
              "TQwz9Mz1GfaymlH7KqMp3ebR3SfYZJXPJ0C/PYXDoyD51HalS40T4+3IeCc1Nb1SQr9vyfs7l/Rt\n",
              "tNXa7gblHG+uA9C6HtWbcw45kO6XJpyIN8kza+cjqxkLEh/RrtKOfu6o+tIFoe44uJJjxlPTGUV0\n",
              "s5AK1H19yalgr1golTKxZdAjxxTRPuqf//lN2TviX/7mnZb1WTqoz90JxYxn5th9j4MNuqzK5bgv\n",
              "J2d+0upznyaxvyuP8/hXuGjKqkd/kjo9ENtdIH9rHrVGdqWXPzv9d1nNgIqZ/YpJQgNcKgtuPuBe\n",
              "oqtkZkfzUyUlS6gc7yv416BB+I9LWiIRajBnD1TVtyTqHWbA57TgpFO1sXGAZtTCjHsJDLursRRj\n",
              "ou4leddJVMuDLvM4qr6nEKGvsnWNyuFd8tidzwy4r+OhckL4WKU1QYrd08SfliW2t+pfli8ZXpw/\n",
              "tOiO7atSfUgdNO6O5PrW/6C1VH/0cMyvD9jb+v2hIQilrzkEUpXd9KsMGjPzix30e75ztYFZly5b\n",
              "YAAyr6AyP170GwOtSvPEh2sOIWdY6RhfuBDnQJu6z5WHDDUG2qEizqY5K+yLa0t54o3nT/amfZSy\n",
              "p491bXxJbe8rDrspqMJBcpJItUCnldj53AVED94tf2Pe3Abs0lxbOzvwUELJ1N/iSbNB8Vyiw77f\n",
              "4QGTdGup0+outAwR1UDRkroEJhdAYgI5PjM+nV4CLS+o6oAsDcI6e7+aogc9831iPhx9EdBTGLLz\n",
              "GOrF3+I4PBbKdiC/oYl3oOP2tkr0/pBFF7ZwWd7oW+VmgcdpT0nhHj17UZV3Uzl2hyxxHtyHP1vY\n",
              "bGoufdN+TWKJgjDL1vNHtAlyyvp9iyfhY+5/jNZ69PPB1NgRV5GiJ6++Ccu7J6w9QnnYuxJE5UNS\n",
              "mFVdKXj1EG22FB6VeXceYtjGKwayeEtivWWWhkVlwtSLRYykZG/KhlRctF4TlNvZZVVCbyWwTCGZ\n",
              "Wa6MxCBYP6gNMRnbOKtWhKzzgfuYDkHGTlYmtq9MMZV/IyFX0Syll/sUtlnOFimOjttSeVX4p/XF\n",
              "BxrXiLcM10t39gGLFhIoRZXq6V/yJ3vEzblvOsyerYS5k9CusBFg9X1a3LQ+f6/SY/LpH2X+fkNf\n",
              "O6fa1tlYCQR72eUg9TT3Z8ik1vNcSwPCEYny0fLAEwcuYeEnWO1t/DqQek5npHyaC17xB2D0MNL/\n",
              "A+ztybs+qVbNqj7/UPNWHIm/lK8IutQvGYVL/KHfImhVbj8ore3BlFp0B1NglXD4Rfih/R1tSHNP\n",
              "utAKvuqfW1TUdC3AXp+Oh4s0IlP/aq4x0k8s9BpDOAOUNnmWwEr2UGTHbe/Tzl2bG6fH/Hy8jSlo\n",
              "U6qmYqeOWIEZj2AFI4v3IAAOGnOOfPmqtL/XuqaJ+7OZqZfG4nVSBWY8W0PA1f8P6qM3TuSUPY3R\n",
              "Ncj3dVOn8oinvkfNpxhNQ1WP86Yq19xNYlYmZ7X3E/Mty9guLrYwuJNoVuAIQ+y3C3MWiMpdZbOi\n",
              "AyuUTDcDYJ+z3IoX6GB22WXYopGxa65uMUrTMRGmyrb0n/1yjXJYW1O9FY0T6OdakQpqHeBXaGjz\n",
              "AXVvhXUGh/02ttHJtfi0XFEQhD0bkpl/a6JfvfVX/36rLoaPqE93yHVMhZPeDfkAAAJuAZ5hdEP/\n",
              "AAEtjM75GsY5qQAtC75ywckqW5geGLbHuQ5xyDgNUxGC2wXHSpwHN1zr5V4YH6RV/PbaLBLoK8ok\n",
              "KYCLk0OSdOfw/mTjfCZCwQt8gTSUUYHR663yIXbkh8clZDfM65AGroEaUnFJ0KEu/WIU4Vw1eR7I\n",
              "jrCvFE+QapiBZWRh242mXpG6kmAndCOzsV6YZAIT0pBzpGOsMnhk+VFhJwPozNSfA1vRiRnM9+9w\n",
              "fJzKQDxlx4W48Lt3C7WdOratisYAN5RzZ+eD9Bpbbb4PFZMLyPGkmS5x45uyUq5oWNUkMfCwWkXk\n",
              "CqLq9hOjrDml/rAzP/AmphoZF1C2y6tA//9j/8RCWdGFjeZtYIHcLpZFsnfK3OQSmCbGJ6DLG5ek\n",
              "U6lGbp3HdjK9MKjipG147m9tfax17DwbYgVhKN7ULNnBqD1hydZiJaH6447ooTAe6zICalfysUqN\n",
              "oLTBFRly1hBcLvB+ILHig0TtWpGYQtPj+h0hJjJhi6BOa2b1ce2mXCyP/D2n47cmDaX1KsBHS3Lp\n",
              "4/W3DFoqCDDdBEc2K2U+MWItJ5domNxPeI5RpqcG8yByG6EyUp7EaCvI2a5ml466htJ0d/o8046G\n",
              "Y1ZGtnzWAySZ3kYMHyamOzd2XUuoyQ0MWhYlOElxW907AY4+WwYVH8IwvJkFIMcWl3+ff+6h3NqB\n",
              "GXqzCt65wAEFDAq4FiWP25aHV5/BUdRXvYLo+AqE3IegCdG5HkuOQFNFT+bUxXrCqrT+Vyp+Bn4J\n",
              "7RBG9JkYGXlYGdUtO/ooEIkdFVvgmY3ThYmyOLA/gqa9aEBZOfC+L051PY4HpAAABAUBnmNqQ/8A\n",
              "AS1pAIELnFMV1zgUFhDLjBtkDSR46ACjNm8ABrG4Qo7M4pM0/NxmRK6xowY+uc3Wj2TLt0F8vwsd\n",
              "avldLkynAfMRCahZNqFonbrgwu2uzQ3pNkUPHsUBSz3gODU86jzwNzRPzUWjAyfLScIaI7eWOvbs\n",
              "10HMqvOW3dF9gvY2yAZdNXzwvES3C0LydseF8xnmn/izaY+uFPDZZ8ihfIPXh/hJx/ZcnFojHDNs\n",
              "5gwhzD3cDdHyR5/aofcoE31Ta2pUl8QL6ujp6E56Qp5tl61BMQFG57NshBbWwU1p34Se8kbEcGsM\n",
              "+y7wJMtTyvw2m/qvjXB42+JBQd+MruCY/I8qWIaORRYvGoGaAhc7FDprIK7W7UwP/A7jzuZb4SH7\n",
              "59pZeLG3jC6TBfTj5GuMC3KN3mObxam8K0z7Rj79anq9XFjA+Uobt62OqCB2+qQgcbgcPIJ6HTEE\n",
              "f53tQGmJW+Ed1eAUymEa0IX6Jr6O5ISAYPMJM932ZZ777w8DfVDezdtr2dv/QOuwy3qz3RPggNwO\n",
              "UHPmOXI493wVQXyJg/pcKBa2AiwxYwYcTREIvZNgGxiwxvaYIS4CfewJ6zTvSiGb/vgP3YmCMhDr\n",
              "hTkDs/0ntI7FGMwq4wntl0oWqtP7R5IAg1MvmqfszJJqEPIGVMHkj042p/Lvn2x1L5Fi114d7eCX\n",
              "6K0D+ErOEGqUPByyrKClr2/++S4Fu5tnok4h4POjdWeXf+3KZiooEO4SAzv7lASvHA9mN5ouijkO\n",
              "MKwUeODPF3toZY9jibOFiR+WkJp609VXzXYcN3QgW44Y2nJA6oWCezgG0SwhWBkxb3QVcYqKxpuw\n",
              "jopD4Kqsg8UlYYXEdEAZDnMtVK04WXuV2LUdKZ9k1c+FIbr6Jlt9WtFdX6spiss5WajbVyo2I2Pz\n",
              "dhyHQaT20gansZOWterAe8bG4S540B0x7WkMFbjMsB/46CpHrPBMzyFm/CNbRGrglgbR4PP/aMS3\n",
              "UqtOBELrY5olM60h4jnlg2T8/yzVjK0sxEqOaS6Cv6BXq+ntJv8mFydp3prDKlIwTaiynR1PVDy9\n",
              "JeSJidlP1CJEwI1JBJX+iiQ2VIAIsz8JnKmULJFtEov5pukyuh0HYe8c1g834vKpXamT8JFRjgSz\n",
              "+AQqyB6RRWU+Vi4PBZNisZCdffR9d9IkCGVsIc9RGO1oyhugGdICMrEPIxNVBNBxIDPdQwqb0D8o\n",
              "AU1DBbo4UtrMU8PiJN4Av82pX3xeADwfVDC2FLtXQGczKzSIy7uZ0h/JKpSEBNCb6nv62TZKIAo5\n",
              "tvFJyMOn7tuPNybHiZq5I/PUxdMvkp5rR4RlaqrMYc+zybyFOWLka3nx/pCKCvg3B1KQ5ekAAAWV\n",
              "QZpoSahBaJlMCCP//rUqgALuO79lfC6UXLZWwxS34tK0CgTdBSsxCmsH9mqWA+sHtVBaGbp0Z6sf\n",
              "77acpOKyVaeeUwGOxgx9+uocmZd01N0bwp3LFTQepoNrXq0VcVN4ZWHrcCy7sU/y//ziAhuH0O5g\n",
              "paXV7/VHgHfzQQxIfJslL5u5/PnPkhDi4qxmG9/pbMvDfGVajBPeE6x29e/MpUJksxPmH95uAwHt\n",
              "1OS8iblmOl7iNI9s+MtnGlcEIVM5mhQSWippnU6lF5YSPAAL0Shz7I60BZ8DYFihF6QDQ5dEG+JO\n",
              "S5q0avpQr74S68tExcJFEFTCYQh11Uw1MI5lTgHIiKPI0OMhXJnm4Fd3n+pAh25J6GV+pB9Yq7l0\n",
              "XfFhVc2aKBLhlvz3I7+xRMlG2dhhpa8QujE10HKAKDSPcOfGq7BeEbw41TbU6yT9WnCjD+C1F4qd\n",
              "7ou6lcuKPdduYAnEhvwNgdhXBNaRFTHsa4pdDD21878KWz1y2paK3ZTv6SYiToAUIb/su6yBHDfJ\n",
              "GVjrGjfampuMwH2HnbZtLoIbOxMRUCIL2Scj5y6kNRad3nEu6NAahamV6lYWZHlcqX+embvUHitG\n",
              "7UuwVC0dJx5gFyfpMEkkvk8Rl1PvPymZmu/KQAAHvHJTiD+6T6OJocV+RUd7XJwloWzPpbwNYKT9\n",
              "AtpMXRN61OwfhIqHmr8d0dAT4vYWVOHo8z0Gvxw/PZOIFHSlhpzz0LfQ1tr3fHq3K1BPuAASA05r\n",
              "+iw75FCkspAYzrwxidQUc+No65tVBPUYYwPEm01Px+HNYKekKckgAvM9oRdGSPNK8aUkIlfytXG2\n",
              "Hzkc1B3KZz7t4p13+K3RYPXn8TULnpN9HoeMdtRAcZxlkiZoUemg3HMDMtD41pTHE+6CfOEULFJe\n",
              "USFZCpdW9C/bYwIA3+njYBzoVGPK/s0FIMsKggzEOya7HJ57TIef6U6yX1/IrYcJpo7FKbhucOtA\n",
              "rJIvtl+cCRCOp1E1DwNCea2jUF6z2YcgYpHuzGlpLodZC80CO0Y6geh4oGFUWQBocqM5P12LUnvy\n",
              "QHqVXFKz0F5I31BHUkdfL5pQqI+WFhE5EcCBLoVHFQ7dtNA96Fk2OJumA5nTiqkhbti29wXHelhn\n",
              "/Mwr8MuAflAzLZwDlmc3lR3IOI6j/2PLdWZD66UoDAZMUdMveKiKuT0Rm6o/BpkYDAnqn7/IjufF\n",
              "9VVdpkFxRdADn1RRdN1E/tEAIwoIUMUmCx8E4Uurn91+mlctufJaHlsSmKI19YkRgraRDSpyA8I0\n",
              "ylltZvkSFA1uALW8KfAXz9hggCNakL8AI/HC7dQd//WyAhKkw6BP7CZKS0Sq8sv8hCpiBiTc/E7g\n",
              "pAVXG7g6jXockFIvUw1QSkkJCdsaryrHkil8cL9+e6ykOEZSGGdMySfusEwc9FeMFlK8q95VrLPZ\n",
              "lt0TqOUS8a3QZevXPelBD3yeRgvXadKTLHyM1vpEAe+JEMtl7B3ykVsJRRteXPRU8Bffg/zKA3Mr\n",
              "J2bcADU5t1OO6CC9PSCafKGs/7ncEkJyebippKC522OKFGIFxr6AiKzZrl4jcOdKSIDFQlEtW54N\n",
              "yG1y1amWSvTqZ+VBbRdz+2y0GhhdaahH+swLjmaiBlVBIqPAiCK5CQSdCnN7PF69M3NSAUUPKJ2t\n",
              "ywWv9ZY/AMv8+TkHLCFkiZvBxVDmINEhIW/1hHU9jH1a2HYNS3UrM1hgR19NNuiOyHS8wyclsAon\n",
              "5aEH5xNJydOBdyMVWPqKEevWyHUl7JRjKsSVegWKOz/E7YcS5qnVCjzmqwqHFQp0JtXADIeh9+YQ\n",
              "r5/hM+MBK0UiJWI2/J15HscHLIdK2a/0+dabYWX3LiISOfNzLbOQPCN+fcbTIT7YFP0NarfWk6xD\n",
              "7bjUgQAABcZBnoZFESwQ/wAAMihXxp0g+oA/tZAqSCcTdumhZ0+wKwWsiN0HWj17b3B0QJYVpfeZ\n",
              "Ha5nyZmZeinXaIhD/fNZmj+50k0P4cSoclS08P61MsK82TPLMWL+ZoSiIpH+4R4ikDUHijVNME5l\n",
              "gf+q24IwTtQMVrWqnugrEE3JDZlX+s0lZDVXH2miirSZuLUxPsTNTxs5//Z1mLFUU+pzfgptmQsP\n",
              "4g0FDL/8fbq+cftgTMq3sM2EAdvyyGKtl8jvLIyMVZ/XROdd11vDpdg4UsyNZw5wpP7kVBIlhGlC\n",
              "xIus7oNJrCgZcmA4MCfADJTelEbzzublmsXK6F84LMOW2CgyB6k2vefAbuRqMB/4XpgvqS3wPnDD\n",
              "xGnobV5fdop6Ef/0RSE65txVWP4vkcPHa5o4DoU8zaEvT4f7+iPlp0MVlpbwIK64fPqbdQwsAT8T\n",
              "9FQwQSFP0xdkp5+2gElCNXK8oVfUibRyUpHmEJYN8n4sx7RalGqJy4EQbvU4u3BPMRU6VImLJuJ4\n",
              "IKtkxlbqz9pCyj7LKkY3l6kePhpVGqjMAjn6GABlYIXGybSIicHitBLQ/z0JWsio0XCDD86TZUy2\n",
              "zrJnB5UvnNIf5Cmk4/NqCUehIJSpdkzBi34+tjRa9kjOZv2ZhM48aZEQd6ZY6Rx5hy6CiXdKRFew\n",
              "jF2q/sc2rc5DyBNsI4kNfI6LPQZHlLg7KcwN5ZnDsEi2gObvJuuNNnkEhQ52bK/0ytEl9EBtReyH\n",
              "eHpepueVl9SvR79JttwC8tJ3AzuZrpMnd1HJ6UuDcrI9HenPxdj2MrNEPrueBpJTxbP60vy7hfEO\n",
              "/GMgnv+aPTslD5cgu1rclctl260mmkGgN2EOeap4UckwawF4dJ0fdFTZjb59mqycRtYv80nDbJNM\n",
              "eHQRVJnrCGbwKrn2Y4XGTZpRKWTvDcVJ4BHh4uj8hJCa4mVfyVp/oX4A/RPP6o4CIVRo+uw18z9t\n",
              "5C5fzBgM4jV28Q9N6N6rNbPtr9z+Is6WAVVEZvWpnT31Un+vMSN2k/TpNBhDHxfvp1X87mLj0pQC\n",
              "m0oQR87CrbWmDCFEvNAohoi5dXHuUzPNfXhA4sa8hZfoGYZL8XW5EkaVF//SoCS22zATiZxx4V24\n",
              "e/urlrUrEpAHVa65mYpWvkjToSKpLeBUrv2vyJFWlyWj8Yk34x9IVUNRj0riNoOHzIVz6jSQRJzZ\n",
              "TwjX7AZ4GtsiMQle8lZjPZwwX/FuP4agWewWNJYLrP3gUXz6CouT2BeJ8m5bEiLxMdd1/qRzTw6W\n",
              "NS074a7QdOMGDct/3LIQphQ2SyTCN3vM7ElMFIhenZIfnC5bG9OcyOCu7WRYtm4QSUlftK8WLJG5\n",
              "q5/nLm+4ocXbP8JQreAUO1xAw6csfJneI9CgyVTPk5zYjEPei76z+4zrvdNOiBDHC8JWOx6q+Btu\n",
              "FyGCDouIsk6Izgc6eszL4cghIu7vMZZ974x9J57NrVuZ5PIRGpw1e7EafyLXMZAMh5/Oulan1x69\n",
              "FhH6g1TRWBNZCfGP9w1Gwh+e73YAh131GKtcBJvaJkLYLBfCCRnMZ8D7WTySoNHeIPLO7PDhBx3r\n",
              "PgmbTg/xNGsKDjCk1CrDD2QDE2J/n1zLJpEDmuRBOarCA7ky5AWYDDZ10olpTgyU22xQ5b+rCpSs\n",
              "bVkPey+ubxhPp7Ygx97Cz4LOb5b5eEYi22EG5PNgHk2QXOvFd7wNzu17LsRBHeUOApG/XnSaLJav\n",
              "T70mBwSuBxJqt1IoaPYqHcIDTQUdQH73Q6tII/l26IIvw+x9EHobcGtuAwtm1f3YUap2H/ZeEkjZ\n",
              "DxDKgNFT3ddc7+OK5QG9PGQyxWW1Mriodm8ysoKvcHBMsrS8y+Fe15+vN16Y4NIWkf28igFkn0LK\n",
              "xTDEMs+q8zXUU10qR1wDZgymLS57mlTiywRfDo5E+C0niLlBP2EGgsSU3oPGxw6rArR9enpNBsQo\n",
              "AWARgQAABHkBnqV0Q/8AAI7LW6M4cCbKZ/ka+/4ABZy66Gi2xmyd61p+gtjGybco39dehrQUa/ET\n",
              "9EOdEkx88DkOvDXnntt+hBnqeJByXHfSDsCOyFB5EWrrwcWo6a5ubuVnrPhlE+vaqWnRBt2SjrJo\n",
              "LY2Y/JwgJp3a9+AcdqNjlcxoyMb9E1KBrVi4ibmCwBO1WIfK7jj2HrhztRREv1DnLTnHxo++J5Rw\n",
              "CpkhSB5zayEiM077IRX8yjZJpJObe6h0cWXMOt16jXNBGGSYmVY6dTbo3XEKzBjGfm6qHEbpPnP6\n",
              "aPLTzJwI3xYrAKlCLYmRAk1w5OiC7XG1GYm+pX3dvZDIqO36fE7b7aFWYFQRz09boEGvIu6KWt0r\n",
              "pg8ICY8GJAOfINJkswKn3/gv6AIbJgQHp1qnnf60yUCD+cMWOeHTqC1qa2BpvtW+Nq4JXPU/x+ZM\n",
              "bFkpUzuHvmcydZXezsJnLr31rZbMNk4B0XxOvPTonprmYb9jRCwVqiFWHstc5i0Thj/LJtLj7bzG\n",
              "dksTGH44l/swLPLT5qxvXeKXea7c0yOQ8+syDHgABV+9Qq0XTZLp2rKviu1sjPLznT0Ucb0R5YB7\n",
              "3ZmnLIbOqkaCCJpf9nC8t66nWXwRVfIkp29ozm3qlbXpGUWVVoPZO1HE1G7OwAFA2j6qkvZTRz8s\n",
              "FyXOH1SNfwfelkT1SPyqLXquG8iTng2vq13f/OAABBzC35EVOslG5aCHTgLxYGhZUkNsOR3nhYPx\n",
              "j/aQkpyFMxTK0huR1UtpoFcnCHLbAJJo81nmtoPr5tmalqFRs4v8+hpaTgZ8C8NKU6q3cQYPurfU\n",
              "GOCqgv0ESsO97Z5PNKh4x4zrKjGyam7FW5kH1tyg3DnN3y/xfTpCAG5GBJM60fJEde2dVTmY18O+\n",
              "R+gGAcGvH7HosWslqCM1Y9j42p8vUN9eyfGhvPmfb/eNozrDLosa99UOeZCKIaq12KesS29BscDv\n",
              "/rXDV/cHTP7nmC58CuIeB0wRUTrsOPO5U+3B3TcGGystcPka80adB/mqtkP8nkiZTtLbOq8VgYnZ\n",
              "0aWncxOX+Egx+naczgZUjqxKJq45GXhNBYW7/JnlkTteuQmbL7tHcdvcS8knmKLd3vQH4xnGbBPt\n",
              "A6KMCkREgCKtEHlgX3FS0uXGAqagYCh2YG/I7P9rqvkHrWF2BLt/3Tq1fAHodQtRziYF02tppgvq\n",
              "hMjJx5MfOpzlv/0FfG/p/lTRwrMIL0feD2TEZAP11K+AyWAtNwV/POWu6uIOYfU/1b6APxxXGMcg\n",
              "LoYDW/8eN85ulOl+OITb9/V5iNuxWOAVqyW6yeYbvLslJLxejjAaMsfzVTYbRK3HGUjr1LPgZKDc\n",
              "KdssWeT+RMbrYv8UKTv9O2YduUaWwLdFin7afHE87fiQtbLwFIIqjckAAE2/M0BIuyYrLsieFzeI\n",
              "lTTOx/jaKBRR6AUlFo+IvbsgOCoHGdApUVG3xbI1je/miHPS3s5MBX4hkUtWVw5XJ0MhIrDh0w/E\n",
              "OlW7Fp5ATybo+KA0YQAAAyQBnqdqQ/8AAG6rOABKh8mzkbU30qEqF7j9Wky2YkxeICZKlyMc5b/O\n",
              "fxlRZZvjK/uc0bYdjBckmf6qDvWSy0x/KzgQfb4GCrsj4fcPetrnZZy/BTfmq+97DmYBfDS2xKLn\n",
              "yFq5QUFL5JMyzE3ekE+doURwBxqJTQ9uW/k/4YsAHh5q618GpxXh3ZKUk5c784D8e0jiRSzXzJhY\n",
              "kCTZEKgACesnWCbxtAwseikimbAS3CSHsdM8fLDsDyV2aOW4kC7kv7mXIqRH5AEC3K/aAhPUJvty\n",
              "UwAWh/0oAv8kBESgaWaCwCQfDDPsS/2LSUvScwCB4M0x3X03iZiLSVTDJVvnVn6BdD0SMfic4L9a\n",
              "NwbHEUGd+gQC6GoMZVzDFsW2GSpZU6U9wskD/RQKKzTqmmF+ZT7kaCWN3qrsb5XXtP8c290au2BU\n",
              "K4l4XIFlTL744FAx7WeohSWXMCpEnjYhd8t43xGzONeSGgSFcSLkVR5SpvCVadFsgPkWvM558kWE\n",
              "bGH6eUgkIe2Y34PS9BusV6EtNH3DuZ68ng+m095ziksSuqhg0WxsskTNV0DxdOUpnQ3uN2q14C+4\n",
              "KpL+ew6Xd/nuQkp7SMMMJ+VNmocVdsgWggVIH1eHs2nvc9fr1I3VyMwoZid9HJAtcn1sH3Wx+JUa\n",
              "OA7eouMaPm0Uf7cii/QZuxKDpbNHSVYUSLp2tvCjYNdINM8xoBwjS82/rqQ/AlwzwSEnI8u8xJiQ\n",
              "qOyXATF17M50CE+1xpRBEh1+EQZzdtnOH2NcuDo9GS0HSZ4sBqN2NbTOAssNkU7bwhIAlWxhyrG2\n",
              "ksem6ln8SsmilRTattlT3a/XWJv/M9lb9iOIidnqbsV/4z0AP1pd+h/tEafHy1sziff3UkOqRbcR\n",
              "0FMijI4YxIPxmuD2D3YkfDGD5pCodLyBQip2iNFNZoArsrFnq7hnq/FzOfSArhUs4pLevplZ1y2C\n",
              "BS0WTKUr5laucEiCldQj3prfxdPfCf80hnM0r7JKDmWrJDlZWvKAqRZQ7IkV+EVplVaA8EuJs0qU\n",
              "VOBPpU6B0LCi6vZzzlzhkd2Yqr2PraAAAAPyQZqqSahBbJlMFEw///6plgABS/hTI+r2ULf74mBE\n",
              "x7b0ABNbZTZldlWr/9EE0HJyVHAwGeCbvb61PHB8llD/FypFhRZIV97i9EFVSeLIwzQovn48K6Lt\n",
              "noE8EbKDD+EK1BgTp19+M1wwZvQJVlJ4s6NPzYAjL0uOEjuZM8BOfV7AHHeKwQllg9Sxdsmbb2xP\n",
              "6i3yhxTf3f7lm7WCU8ejAo6FayovZotk1/gMTTdmHzFwz94ScM6a0Giwp4X8JzFkmn7vcCn5fKWX\n",
              "qa2ZCipvCphTF3naSCLd5TVI36kaAyMApM3Z49OdjVFT56QtYumfx3n1i0+pg7UVTbHvKG4tyVkc\n",
              "fRy8YkRNSZHXFRjJKNfB6WgJzUO2NZitH+UmBgQ2BFhnBbey8Y0wodx0EEYAxY9LhMadcrmpQTkP\n",
              "11D5+hObJNGxammwN1yQ6tDWrRfwXineYPIEN+VR6mzBG4NbA+WP5nWpWlQh6dPqD9NPoxUCO3HQ\n",
              "wQHtt1RwZPdMSWOVmcYf/SJhI4qKjp+iBCH2IauoNq2GkQWytOSMDCYYUPQEkDJ/5LMX1z97dEIc\n",
              "w2shxkKk4muxVTR3FV2dC2YbP6YfROFMOtdy443bICitrFPIutmqpl0o2cAkI84/ZGg5onIxFRXI\n",
              "X0OC7HV5PoAq8Xh0tlA9srKn3v2wWJKTyzPtlVbWKeO4bZMVS8u0Br4lIFYYMKnrLYqOaUoloO8v\n",
              "wCtg1ugju0TupCeNJ373phLgdu8/bX5j4JDVpgIOzpiCuN0TcAhzQPO0bzoKdsiCBKdJNJIv20/m\n",
              "KbsMJmOU4QE4ZxNSiIHP6vFEubObCN2Zu5HDuhQoaTakuGdbnNhLqyKphW1hH4uhEN6lgDZDyAhl\n",
              "mhIlcIB3lop+56Ezspr0HMkYI9Ar651NoMCSM+7iARn1YaBLzO6BJdHRb35TqJv0OwWFP+0Z05zh\n",
              "5YdP1h7Wjt4pAiUnpILwOIsjgl7uGLHUVIeuEgHO4f0BDmbvQxSr+EFGCQF2YfDcBxUnu4T9HlY1\n",
              "4llFGX+7eYcqakJIDxkMaaVi8GJe/S9rRw8JS5Ysrh+zpI+5BdHJjY+NxFtQFYCsdIXwmchQs5Ij\n",
              "UGNRKHHcQEwc2jIvdj2D1Bxv2S1d7i+SjVqOCtpKd7nuVuqFks38jOBzExDo/+pdACFS6IPwpMoy\n",
              "hXUhgCTxaQaifUsgXnHx4PoKBjRF9ZtGh27lO5J+WQjePXRGQLvr6Lb12tGnmrMbfQzSChlWMRrT\n",
              "p5x3Ih50uh37FnKwldl/F0heaVYPJv3vTjvcCz3qCdJceDZwXLJRP2ovrhiFnQANSwU8ErnYhmN+\n",
              "N8gzbC2IvA5DZbQAAAF+AZ7JakP/AAAozsZvKJ078QLhJfRIs95Pk6/I8TwZANPLGR7jkWZu4eg0\n",
              "LJGtQzSPVgYVpg5ameDVJEtWrSKAvPvIvQAG1rW8QOGrl7Vdx5A2nYus91GbmUmsHGddV7aG2Hju\n",
              "Kt9QzMq8mJ1uVHYMnGChAxPIQw/Qp6D8m108RWGUogaaHGGhWg2MY14rgGSEzVYJGABPfaCRWZhf\n",
              "xkWrc9xBJ00mbhhnALTMJ1+qFKHzn/mT8vr5KK4FIjSmU6uEnw76hda3Da42t67cr002gXheQ9+G\n",
              "STQeYsaHuM4ouhLQjhNKFFBiVxHeuCp2sfUieR2xQNQxD9pWceC+VN9kUUt8FKvo0zZlRrf1VQmw\n",
              "EvROqIHgXEK8iGNAMFQbP4rnFltR7foS0WW16/NV/Mh5yNtiTh5Hpb/mBe8xUdPys0wfN89symu5\n",
              "nF5qSSQ3rk01WRdxtb0IXeZrj4F/+1nMdaCLEvCqAXUzvG2Rcye73adlcf3701lagBcV2hEGhQAA\n",
              "A7Ztb292AAAAbG12aGQAAAAAAAAAAAAAAAAAAAPoAAAImAABAAABAAAAAAAAAAAAAAAAAQAAAAAA\n",
              "AAAAAAAAAAAAAAEAAAAAAAAAAAAAAAAAAEAAAAAAAAAAAAAAAAAAAAAAAAAAAAAAAAAAAAAAAAAC\n",
              "AAAC4HRyYWsAAABcdGtoZAAAAAMAAAAAAAAAAAAAAAEAAAAAAAAImAAAAAAAAAAAAAAAAAAAAAAA\n",
              "AQAAAAAAAAAAAAAAAAAAAAEAAAAAAAAAAAAAAAAAAEAAAAACgAAAAeAAAAAAACRlZHRzAAAAHGVs\n",
              "c3QAAAAAAAAAAQAACJgAABAAAAEAAAAAAlhtZGlhAAAAIG1kaGQAAAAAAAAAAAAAAAAAACgAAABY\n",
              "AFXEAAAAAAAtaGRscgAAAAAAAAAAdmlkZQAAAAAAAAAAAAAAAFZpZGVvSGFuZGxlcgAAAAIDbWlu\n",
              "ZgAAABR2bWhkAAAAAQAAAAAAAAAAAAAAJGRpbmYAAAAcZHJlZgAAAAAAAAABAAAADHVybCAAAAAB\n",
              "AAABw3N0YmwAAAC3c3RzZAAAAAAAAAABAAAAp2F2YzEAAAAAAAAAAQAAAAAAAAAAAAAAAAAAAAAC\n",
              "gAHgAEgAAABIAAAAAAAAAAEAAAAAAAAAAAAAAAAAAAAAAAAAAAAAAAAAAAAAAAAAAAAY//8AAAA1\n",
              "YXZjQwFkABb/4QAYZ2QAFqzZQKA9oQAAAwABAAADAAoPFi2WAQAGaOvjyyLA/fj4AAAAABx1dWlk\n",
              "a2hA8l8kT8W6OaUbzwMj8wAAAAAAAAAYc3R0cwAAAAAAAAABAAAACwAACAAAAAAUc3RzcwAAAAAA\n",
              "AAABAAAAAQAAAGhjdHRzAAAAAAAAAAsAAAABAAAQAAAAAAEAACgAAAAAAQAAEAAAAAABAAAAAAAA\n",
              "AAEAAAgAAAAAAQAAKAAAAAABAAAQAAAAAAEAAAAAAAAAAQAACAAAAAABAAAYAAAAAAEAAAgAAAAA\n",
              "HHN0c2MAAAAAAAAAAQAAAAEAAAALAAAAAQAAAEBzdHN6AAAAAAAAAAAAAAALAAAZNgAACC0AAAeU\n",
              "AAACcgAABAkAAAWZAAAFygAABH0AAAMoAAAD9gAAAYIAAAAUc3RjbwAAAAAAAAABAAAAMAAAAGJ1\n",
              "ZHRhAAAAWm1ldGEAAAAAAAAAIWhkbHIAAAAAAAAAAG1kaXJhcHBsAAAAAAAAAAAAAAAALWlsc3QA\n",
              "AAAlqXRvbwAAAB1kYXRhAAAAAQAAAABMYXZmNTguNzYuMTAw\n",
              "\">\n",
              "  Your browser does not support the video tag.\n",
              "</video>"
            ]
          },
          "metadata": {}
        },
        {
          "output_type": "display_data",
          "data": {
            "text/plain": [
              "<Figure size 640x480 with 1 Axes>"
            ],
            "image/png": "[encoded data removed]"
          },
          "metadata": {}
        }
      ]
    },
    {
      "cell_type": "code",
      "source": [],
      "metadata": {
        "id": "MiOqEBVEzj1p"
      },
      "execution_count": null,
      "outputs": []
    }
  ]
}